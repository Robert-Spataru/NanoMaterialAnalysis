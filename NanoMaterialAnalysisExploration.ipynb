{
 "cells": [
  {
   "cell_type": "code",
   "execution_count": 1,
   "id": "initial_id",
   "metadata": {
    "collapsed": true,
    "ExecuteTime": {
     "end_time": "2024-03-07T06:10:54.842950Z",
     "start_time": "2024-03-07T06:10:54.839699Z"
    }
   },
   "outputs": [
    {
     "data": {
      "text/plain": "'\\n#Task: Predict the change in energy of the structure given the host structure (xyz data (which contains the x,y,z coordinates of each atom in the structure) + element list data (which contains the elements within the structure and match up in order with their corresponding coordinates in space as the xyz data coordinates)) and the index of the molecule that is removed (use hot one encoding to represent the molecule that was removed: Mo: Molybdenum, S: Sulfur, Se: Selenium, Te: Tellurium, W: Tungsten)\\n\\n#Machine Learning Task Type: Deep Learning Neural Network that learns a relationship between the associated change in the structure of the host and the corresponding change in energy of the structure\\n'"
     },
     "execution_count": 1,
     "metadata": {},
     "output_type": "execute_result"
    }
   ],
   "source": [
    "\"\"\"\n",
    "#Task: Predict the change in energy of the structure given the host structure (xyz data (which contains the x,y,z coordinates of each atom in the structure) + element list data (which contains the elements within the structure and match up in order with their corresponding coordinates in space as the xyz data coordinates)) and the index of the molecule that is removed (use hot one encoding to represent the molecule that was removed: Mo: Molybdenum, S: Sulfur, Se: Selenium, Te: Tellurium, W: Tungsten)\n",
    "\n",
    "#Machine Learning Task Type: Deep Learning Neural Network that learns a relationship between the associated change in the structure of the host and the corresponding change in energy of the structure\n",
    "\"\"\""
   ]
  },
  {
   "cell_type": "code",
   "outputs": [],
   "source": [
    "#import python/ml packages\n",
    "\n",
    "import pandas as pd\n",
    "import numpy as np\n",
    "import os\n",
    "\n",
    "from sklearn.preprocessing import StandardScaler\n",
    "from sklearn.model_selection import train_test_split\n",
    "import tensorflow as tf\n",
    "from tensorflow import keras\n",
    "from tensorflow.keras import layers, models, optimizers\n",
    "from tensorflow.keras.layers import Input, Dense, Flatten, Concatenate, LSTM\n",
    "from tensorflow.keras.models import Model\n",
    "from sklearn.preprocessing import OneHotEncoder\n",
    "from tensorflow.keras.layers import Dense\n",
    "from tensorflow.keras.optimizers import Adam\n",
    "import matplotlib.pyplot as plt\n",
    "from tensorflow.keras.callbacks import EarlyStopping\n",
    "from sklearn.metrics import mean_absolute_error, mean_squared_error, r2_score"
   ],
   "metadata": {
    "collapsed": false,
    "ExecuteTime": {
     "end_time": "2024-03-07T06:10:58.880421Z",
     "start_time": "2024-03-07T06:10:54.843868Z"
    }
   },
   "id": "1040d3a18a9f6496",
   "execution_count": 2
  },
  {
   "cell_type": "code",
   "outputs": [
    {
     "name": "stdout",
     "output_type": "stream",
     "text": [
      "  Structure_Combination  Atom_Removed_Location  Energy_Value_Change\n",
      "0                   1_1                      7              -6.8879\n",
      "1                   1_1                      3              -7.0395\n",
      "2                   1_1                      1              -6.3746\n",
      "3                  1_11                      2              -5.4809\n",
      "4                  1_11                     13              -4.8951\n"
     ]
    }
   ],
   "source": [
    "#Step 1: \n",
    "folder_path = '/Users/robertspataru/Desktop/project_newData'\n",
    "output_file = 'vac_origHost_compiled.csv'\n",
    "csv_files = ['vac_Mo_origHost.csv', 'vac_S_origHost.csv', 'vac_Se_origHost.csv', 'vac_Te_origHost.csv', 'vac_W_origHost.csv']\n",
    "column_names = ['Structure_Combination', 'Atom_Removed_Location', 'Energy_Value_Change']  \n",
    "\n",
    "possible_elements_removed = ['Mo', 'S', 'Se', 'Te', 'W']\n",
    "dfs_vac_origHost = []\n",
    "for file_name in csv_files:\n",
    "    full_file_path = os.path.join(folder_path, file_name)\n",
    "    df = pd.read_csv(full_file_path, header = None)\n",
    "    df.columns = column_names\n",
    "    dfs_vac_origHost.append(df)\n",
    "df_vac_origHost = pd.concat(dfs_vac_origHost, ignore_index = True)\n",
    "print(df_vac_origHost.head())"
   ],
   "metadata": {
    "collapsed": false,
    "ExecuteTime": {
     "end_time": "2024-03-07T06:10:58.891093Z",
     "start_time": "2024-03-07T06:10:58.878793Z"
    }
   },
   "id": "6c788ace9c1f1764",
   "execution_count": 3
  },
  {
   "cell_type": "code",
   "outputs": [
    {
     "data": {
      "text/plain": "  Atom_Name  X-Coordinate  Y-Coordinate  Z-Coordinate\n0        Mo        -0.000       0.00408       0.49999\n1        Mo         0.125       0.25408       0.49999\n2        Mo         0.250       0.00408       0.49999\n3        Mo         0.375       0.25408       0.49999\n4        Mo         0.500       0.00408       0.49999",
      "text/html": "<div>\n<style scoped>\n    .dataframe tbody tr th:only-of-type {\n        vertical-align: middle;\n    }\n\n    .dataframe tbody tr th {\n        vertical-align: top;\n    }\n\n    .dataframe thead th {\n        text-align: right;\n    }\n</style>\n<table border=\"1\" class=\"dataframe\">\n  <thead>\n    <tr style=\"text-align: right;\">\n      <th></th>\n      <th>Atom_Name</th>\n      <th>X-Coordinate</th>\n      <th>Y-Coordinate</th>\n      <th>Z-Coordinate</th>\n    </tr>\n  </thead>\n  <tbody>\n    <tr>\n      <th>0</th>\n      <td>Mo</td>\n      <td>-0.000</td>\n      <td>0.00408</td>\n      <td>0.49999</td>\n    </tr>\n    <tr>\n      <th>1</th>\n      <td>Mo</td>\n      <td>0.125</td>\n      <td>0.25408</td>\n      <td>0.49999</td>\n    </tr>\n    <tr>\n      <th>2</th>\n      <td>Mo</td>\n      <td>0.250</td>\n      <td>0.00408</td>\n      <td>0.49999</td>\n    </tr>\n    <tr>\n      <th>3</th>\n      <td>Mo</td>\n      <td>0.375</td>\n      <td>0.25408</td>\n      <td>0.49999</td>\n    </tr>\n    <tr>\n      <th>4</th>\n      <td>Mo</td>\n      <td>0.500</td>\n      <td>0.00408</td>\n      <td>0.49999</td>\n    </tr>\n  </tbody>\n</table>\n</div>"
     },
     "execution_count": 4,
     "metadata": {},
     "output_type": "execute_result"
    }
   ],
   "source": [
    "#Step 2: \n",
    "\n",
    "input_file = '/Users/robertspataru/Desktop/project_newData/CIFhost_generic_compiled.txt'\n",
    "output_file = 'CIFhost_generic_compiled.csv'\n",
    "\n",
    "initial_column_names = ['Atom_Name', 'X-Coordinate', 'Y-Coordinate', 'Z-Coordinate']\n",
    "orig_df_CIFs_sorted = []\n",
    "\n",
    "orig_df_CIFs_sorted = pd.read_csv(input_file, sep = '\\s+', header = None)\n",
    "orig_df_CIFs_sorted.columns = initial_column_names\n",
    "\n",
    "(orig_df_CIFs_sorted.head())"
   ],
   "metadata": {
    "collapsed": false,
    "ExecuteTime": {
     "end_time": "2024-03-07T06:10:58.931378Z",
     "start_time": "2024-03-07T06:10:58.892005Z"
    }
   },
   "id": "6e9aee74eb956632",
   "execution_count": 4
  },
  {
   "cell_type": "code",
   "outputs": [
    {
     "name": "stdout",
     "output_type": "stream",
     "text": [
      "  Atom_Name Structure_Combination  Atom_Location  X-Coordinate  Y-Coordinate  \\\n",
      "0        Mo                   1_1              1        -0.000       0.00408   \n",
      "1        Mo                   1_1              2         0.125       0.25408   \n",
      "2        Mo                   1_1              3         0.250       0.00408   \n",
      "3        Mo                   1_1              4         0.375       0.25408   \n",
      "4        Mo                   1_1              5         0.500       0.00408   \n",
      "\n",
      "   Z-Coordinate  \n",
      "0       0.49999  \n",
      "1       0.49999  \n",
      "2       0.49999  \n",
      "3       0.49999  \n",
      "4       0.49999  \n"
     ]
    }
   ],
   "source": [
    "#Step #3:\n",
    "\n",
    "middle_column_names = ['Atom_Name','Structure_Combination', 'Atom_Location', 'X-Coordinate', 'Y-Coordinate', 'Z-Coordinate']\n",
    "mid_df_CIFs_sorted = orig_df_CIFs_sorted\n",
    "\n",
    "Atom_Location_List = []\n",
    "Structure_Combination_List = []\n",
    "\n",
    "x = 1\n",
    "y = 1\n",
    "num_rows = len(orig_df_CIFs_sorted.index)\n",
    "\n",
    "for i in range(num_rows):\n",
    "    # Append the current atom location, resetting to 1 after every 48 atoms\n",
    "    Atom_Location_List.append((i % 48) + 1)\n",
    "    \n",
    "    # Construct the structure combination string and append it to the list\n",
    "    Structure_Combination_List.append(f\"{x}_{y}\")\n",
    "    \n",
    "    # Check if we've reached the end of a structure combination (every 48 atoms)\n",
    "    if (i + 1) % 48 == 0:\n",
    "        y += 1  # Increment y after every 48 atoms\n",
    "        if y > 72:\n",
    "            y = 1  # Reset y back to 1 after reaching 72\n",
    "            x += 1  # Increment x when y resets\n",
    "\n",
    "\n",
    "mid_df_CIFs_sorted.insert(loc = 1, column = middle_column_names[1], value = Structure_Combination_List)\n",
    "mid_df_CIFs_sorted.insert(loc = 2, column = middle_column_names[2], value = Atom_Location_List)\n",
    "\n",
    "print(mid_df_CIFs_sorted.head())"
   ],
   "metadata": {
    "collapsed": false,
    "ExecuteTime": {
     "end_time": "2024-03-07T06:10:58.946646Z",
     "start_time": "2024-03-07T06:10:58.916535Z"
    }
   },
   "id": "78c4513c2b3d53c",
   "execution_count": 5
  },
  {
   "cell_type": "code",
   "outputs": [
    {
     "name": "stdout",
     "output_type": "stream",
     "text": [
      "  Atom_Name_Vector Structure_Combination  Atom_Location  \\\n",
      "0  [1, 0, 0, 0, 0]                   1_1              1   \n",
      "1  [1, 0, 0, 0, 0]                   1_1              2   \n",
      "2  [1, 0, 0, 0, 0]                   1_1              3   \n",
      "3  [1, 0, 0, 0, 0]                   1_1              4   \n",
      "4  [1, 0, 0, 0, 0]                   1_1              5   \n",
      "\n",
      "           Coordinate_Vector  \n",
      "0   [-0.0, 0.00408, 0.49999]  \n",
      "1  [0.125, 0.25408, 0.49999]  \n",
      "2   [0.25, 0.00408, 0.49999]  \n",
      "3  [0.375, 0.25408, 0.49999]  \n",
      "4    [0.5, 0.00408, 0.49999]  \n"
     ]
    }
   ],
   "source": [
    "#Step #4: \n",
    "\n",
    "mid_2_column_names = ['Atom_Name_Vector', 'Structure_Combination', 'Atom_Location', 'Coordinate_Vector']\n",
    "mid_2_df_CIFs_sorted = mid_df_CIFs_sorted\n",
    "\n",
    "Atom_Name_Column = mid_2_df_CIFs_sorted['Atom_Name']\n",
    "Atom_Name_Vector_List = []\n",
    "for atom in Atom_Name_Column:\n",
    "    atom_name_vector = [0] * len(possible_elements_removed)\n",
    "    index_to_encode = possible_elements_removed.index(atom)\n",
    "    atom_name_vector[index_to_encode] = 1\n",
    "    Atom_Name_Vector_List.append(atom_name_vector)\n",
    "\n",
    "Coordinate_Vector_List = []\n",
    "for i in range(num_rows):\n",
    "    coordinate_vector = [mid_2_df_CIFs_sorted.loc[i, 'X-Coordinate'], mid_2_df_CIFs_sorted.loc[i, 'Y-Coordinate'], mid_2_df_CIFs_sorted.loc[i, 'Z-Coordinate']]\n",
    "    Coordinate_Vector_List.append(coordinate_vector)\n",
    "\n",
    "mid_2_df_CIFs_sorted['Atom_Name'] = Atom_Name_Vector_List\n",
    "mid_2_df_CIFs_sorted.rename(columns = {'Atom_Name': 'Atom_Name_Vector'}, inplace = True)\n",
    "\n",
    "mid_2_df_CIFs_sorted.drop(['X-Coordinate', 'Y-Coordinate', 'Z-Coordinate'], axis = 1, inplace = True)\n",
    "mid_2_df_CIFs_sorted['Coordinate_Vector'] = Coordinate_Vector_List\n",
    "\n",
    "print(mid_2_df_CIFs_sorted.head())"
   ],
   "metadata": {
    "collapsed": false,
    "ExecuteTime": {
     "end_time": "2024-03-07T06:10:59.205419Z",
     "start_time": "2024-03-07T06:10:59.076778Z"
    }
   },
   "id": "e4c1993633aeddc6",
   "execution_count": 6
  },
  {
   "cell_type": "code",
   "outputs": [],
   "source": [],
   "metadata": {
    "collapsed": false,
    "ExecuteTime": {
     "end_time": "2024-03-07T06:10:59.205837Z",
     "start_time": "2024-03-07T06:10:59.203776Z"
    }
   },
   "id": "5b1623e16611ee2c",
   "execution_count": 6
  },
  {
   "cell_type": "code",
   "outputs": [
    {
     "name": "stdout",
     "output_type": "stream",
     "text": [
      "                               Atom_Name_Vector_List Structure_Combination  \\\n",
      "0  [[1, 0, 0, 0, 0], [1, 0, 0, 0, 0], [1, 0, 0, 0...                   1_1   \n",
      "1  [[1, 0, 0, 0, 0], [1, 0, 0, 0, 0], [1, 0, 0, 0...                   1_2   \n",
      "2  [[0, 0, 0, 0, 1], [0, 0, 0, 0, 1], [1, 0, 0, 0...                   1_3   \n",
      "3  [[1, 0, 0, 0, 0], [1, 0, 0, 0, 0], [1, 0, 0, 0...                   1_4   \n",
      "4  [[1, 0, 0, 0, 0], [0, 0, 0, 0, 1], [1, 0, 0, 0...                   1_5   \n",
      "\n",
      "                           Atom_Location_Vector_List  \\\n",
      "0  [1, 2, 3, 4, 5, 6, 7, 8, 9, 10, 11, 12, 13, 14...   \n",
      "1  [1, 2, 3, 4, 5, 6, 7, 8, 9, 10, 11, 12, 13, 14...   \n",
      "2  [1, 2, 3, 4, 5, 6, 7, 8, 9, 10, 11, 12, 13, 14...   \n",
      "3  [1, 2, 3, 4, 5, 6, 7, 8, 9, 10, 11, 12, 13, 14...   \n",
      "4  [1, 2, 3, 4, 5, 6, 7, 8, 9, 10, 11, 12, 13, 14...   \n",
      "\n",
      "                              Coordinate_Vector_List  \n",
      "0  [[-0.0, 0.00408, 0.49999], [0.125, 0.25408, 0....  \n",
      "1  [[-0.0, 0.00408, 0.49999], [0.125, 0.25408, 0....  \n",
      "2  [[-0.0, 0.00408, 0.49999], [0.125, 0.25408, 0....  \n",
      "3  [[-0.0, 0.00408, 0.49999], [0.125, 0.25408, 0....  \n",
      "4  [[-0.0, 0.00408, 0.49999], [0.125, 0.25408, 0....  \n"
     ]
    }
   ],
   "source": [
    "final_column_names = ['Atom_Name_Vector_List','Structure_Combination', 'Atom_Location_Vector_List','Coordinate_Vector_List']\n",
    "final_df_CIFs_sorted = pd.DataFrame()\n",
    "\n",
    "atom_name_vector_list = []\n",
    "temp_atom_name_vector_list = []\n",
    "\n",
    "structure_combination_list = []\n",
    "\n",
    "atom_location_vector_list = []\n",
    "temp_atom_location_vector_list = []\n",
    "\n",
    "coordinate_vector_list = []\n",
    "temp_coordinate_vector_list = []\n",
    "\n",
    "\n",
    "for row_index in range(1, num_rows + 1):\n",
    "        temp_atom_name_vector_list.append(mid_2_df_CIFs_sorted.iloc[row_index - 1]['Atom_Name_Vector'])\n",
    "        \n",
    "        temp_atom_location_vector_list.append(mid_2_df_CIFs_sorted.iloc[row_index - 1]['Atom_Location'])\n",
    "        \n",
    "        temp_coordinate_vector_list.append(mid_2_df_CIFs_sorted.iloc[row_index - 1]['Coordinate_Vector'])\n",
    "        \n",
    "        if row_index % 48 == 0:\n",
    "            atom_name_vector_list.append(temp_atom_name_vector_list)\n",
    "            temp_atom_name_vector_list = []\n",
    "            \n",
    "            structure_combination_list.append(mid_2_df_CIFs_sorted.iloc[row_index - 1]['Structure_Combination'])\n",
    "        \n",
    "            atom_location_vector_list.append(temp_atom_location_vector_list)\n",
    "            temp_atom_location_vector_list = []\n",
    "        \n",
    "            coordinate_vector_list.append(temp_coordinate_vector_list)\n",
    "            temp_coordinate_vector_list = []\n",
    "\n",
    "final_df_CIFs_sorted['Atom_Name_Vector_List'] = atom_name_vector_list\n",
    "\n",
    "final_df_CIFs_sorted['Structure_Combination'] = structure_combination_list\n",
    "\n",
    "final_df_CIFs_sorted['Atom_Location_Vector_List'] = atom_location_vector_list\n",
    "\n",
    "final_df_CIFs_sorted['Coordinate_Vector_List'] = coordinate_vector_list\n",
    "\n",
    "\n",
    "print(final_df_CIFs_sorted.head())\n",
    "\n",
    "#print(atom_name_vector_list[0])\n",
    "#print(structure_combination_list[0])\n",
    "#print(atom_location_vector_list[0])\n",
    "#print(coordinate_vector_list[0])"
   ],
   "metadata": {
    "collapsed": false,
    "ExecuteTime": {
     "end_time": "2024-03-07T06:11:00.314412Z",
     "start_time": "2024-03-07T06:10:59.223996Z"
    }
   },
   "id": "33cfaa17af9cbeb9",
   "execution_count": 7
  },
  {
   "cell_type": "code",
   "outputs": [
    {
     "name": "stdout",
     "output_type": "stream",
     "text": [
      "  Structure_Combination  Atom_Removed_Location  \\\n",
      "0                   1_1                      7   \n",
      "1                   1_1                      3   \n",
      "2                   1_1                      1   \n",
      "3                  1_11                      2   \n",
      "4                  1_11                     13   \n",
      "\n",
      "                               Atom_Name_Vector_List  \\\n",
      "0  [[1, 0, 0, 0, 0], [1, 0, 0, 0, 0], [1, 0, 0, 0...   \n",
      "1  [[1, 0, 0, 0, 0], [1, 0, 0, 0, 0], [1, 0, 0, 0...   \n",
      "2  [[1, 0, 0, 0, 0], [1, 0, 0, 0, 0], [1, 0, 0, 0...   \n",
      "3  [[1, 0, 0, 0, 0], [1, 0, 0, 0, 0], [1, 0, 0, 0...   \n",
      "4  [[1, 0, 0, 0, 0], [1, 0, 0, 0, 0], [1, 0, 0, 0...   \n",
      "\n",
      "                           Atom_Location_Vector_List  \\\n",
      "0  [1, 2, 3, 4, 5, 6, 7, 8, 9, 10, 11, 12, 13, 14...   \n",
      "1  [1, 2, 3, 4, 5, 6, 7, 8, 9, 10, 11, 12, 13, 14...   \n",
      "2  [1, 2, 3, 4, 5, 6, 7, 8, 9, 10, 11, 12, 13, 14...   \n",
      "3  [1, 2, 3, 4, 5, 6, 7, 8, 9, 10, 11, 12, 13, 14...   \n",
      "4  [1, 2, 3, 4, 5, 6, 7, 8, 9, 10, 11, 12, 13, 14...   \n",
      "\n",
      "                              Coordinate_Vector_List  Energy_Value_Change  \n",
      "0  [[-0.0, 0.00408, 0.49999], [0.125, 0.25408, 0....              -6.8879  \n",
      "1  [[-0.0, 0.00408, 0.49999], [0.125, 0.25408, 0....              -7.0395  \n",
      "2  [[-0.0, 0.00408, 0.49999], [0.125, 0.25408, 0....              -6.3746  \n",
      "3  [[-0.0, 0.00408, 0.49999], [0.125, 0.25408, 0....              -5.4809  \n",
      "4  [[-0.0, 0.00408, 0.49999], [0.125, 0.25408, 0....              -4.8951  \n"
     ]
    }
   ],
   "source": [
    "#Combine both of the pandas dataframes into one large .csv file by going through each sentence of the combined .csv file and then matching the specific structure combination with the corresponding 48 atoms and their coordinate space. Then, delete the duplicate column that contains the structure combination in the form x_y.\n",
    "final_data_df = pd.merge(df_vac_origHost, final_df_CIFs_sorted, on = 'Structure_Combination', how = 'left')\n",
    "final_data_df = final_data_df[['Structure_Combination', 'Atom_Removed_Location', 'Atom_Name_Vector_List', 'Atom_Location_Vector_List', 'Coordinate_Vector_List', 'Energy_Value_Change']]\n",
    "final_data_df.to_csv('final_data.csv', index = False)\n",
    "print(final_data_df.head())"
   ],
   "metadata": {
    "collapsed": false,
    "ExecuteTime": {
     "end_time": "2024-03-07T06:11:00.608606Z",
     "start_time": "2024-03-07T06:11:00.316013Z"
    }
   },
   "id": "878b5843c63a4d7a",
   "execution_count": 8
  },
  {
   "cell_type": "code",
   "outputs": [],
   "source": [
    "# Disable those annoying warnings\n",
    "tf.get_logger().setLevel('ERROR')\n",
    "\n",
    "# Turn off GPU usage for tf\n",
    "os.environ['CUDA_VISIBLE_DEVICES'] = '-1'\n",
    "os.environ[\"TF_CPP_MIN_LOG_LEVEL\"] = '2'"
   ],
   "metadata": {
    "collapsed": false,
    "ExecuteTime": {
     "end_time": "2024-03-07T06:11:00.609451Z",
     "start_time": "2024-03-07T06:11:00.608244Z"
    }
   },
   "id": "fe1150a75a69f124",
   "execution_count": 9
  },
  {
   "cell_type": "code",
   "outputs": [],
   "source": [
    "def pad_sequence_column(column):\n",
    "    # Convert column to a list of sequences\n",
    "    sequences = final_data_df[column].tolist()\n",
    "    # Pad sequences\n",
    "    padded_sequences = tf.keras.preprocessing.sequence.pad_sequences(sequences, padding=\"post\", dtype='float32')\n",
    "    return padded_sequences\n",
    "\n",
    "def prep_data(final_data_df):\n",
    "    encoder = OneHotEncoder(sparse=False)\n",
    "    structure_combination_encoded = encoder.fit_transform(final_data_df[['Structure_Combination']])\n",
    "    # Convert encoded data into a DataFrame\n",
    "    structure_combination_encoded_df = pd.DataFrame(structure_combination_encoded, \n",
    "                                                columns=encoder.get_feature_names_out(['Structure_Combination']))\n",
    "\n",
    "    scaler = StandardScaler()\n",
    "    atom_removed_location_scaled = scaler.fit_transform(final_data_df[['Atom_Removed_Location']])\n",
    "\n",
    "    # Pad each relevant column\n",
    "    atom_name_vector_list_padded = pad_sequence_column('Atom_Name_Vector_List')\n",
    "    atom_location_vector_list_padded = pad_sequence_column('Atom_Location_Vector_List')\n",
    "    coordinate_vector_list_padded = pad_sequence_column('Coordinate_Vector_List')\n",
    "    \n",
    "    X_structured = np.concatenate([structure_combination_encoded_df, atom_removed_location_scaled], axis=1)\n",
    "    \n",
    "    energy_value_change = final_data_df['Energy_Value_Change']\n",
    "    \n",
    "    return atom_name_vector_list_padded, atom_location_vector_list_padded, coordinate_vector_list_padded, X_structured, energy_value_change\n",
    "    \n",
    "def split_data(atom_name_vector_list_padded, atom_location_vector_list_padded, coordinate_vector_list_padded, X_structured, energy_value_change):\n",
    "    # First, split the structured data (X_structured) and the target (energy_value_change)\n",
    "    X_structured_train, X_structured_test, y_train, y_test = train_test_split(X_structured, energy_value_change, test_size=0.2, random_state=42)\n",
    "    \n",
    "    # Split each sequence data type similarly, ensuring the same indices are used by setting the same random_state\n",
    "    atom_name_train, atom_name_test = train_test_split(atom_name_vector_list_padded, test_size=0.2, random_state=42)\n",
    "    atom_location_train, atom_location_test = train_test_split(atom_location_vector_list_padded, test_size=0.2, random_state=42)\n",
    "    coordinate_train, coordinate_test = train_test_split(coordinate_vector_list_padded, test_size=0.2, random_state=42)\n",
    "    \n",
    "    # Structure the training and testing data as lists of inputs to match the model's expectations\n",
    "    X_train = [X_structured_train, atom_name_train, atom_location_train, coordinate_train]\n",
    "    X_test = [X_structured_test, atom_name_test, atom_location_test, coordinate_test]\n",
    "    \n",
    "    return X_train, X_test, y_train, y_test"
   ],
   "metadata": {
    "collapsed": false,
    "ExecuteTime": {
     "end_time": "2024-03-07T06:11:00.613305Z",
     "start_time": "2024-03-07T06:11:00.611986Z"
    }
   },
   "id": "4ad6c81f5ebb3d70",
   "execution_count": 10
  },
  {
   "cell_type": "code",
   "outputs": [],
   "source": [
    "def build_model(atom_name_vector_list_padded, atom_location_vector_list_padded, coordinate_vector_list_padded, X_structured):\n",
    "    # Assuming your structured data has a shape of (None, N), where N is the number of features\n",
    "    input_structured = Input(shape=(X_structured.shape[1],), name='Structured_Input')\n",
    "\n",
    "    # Assuming the sequences have been padded to the same length but might have different widths (features)\n",
    "    input_atom_name = Input(shape=(atom_name_vector_list_padded.shape[1], atom_name_vector_list_padded.shape[2]), name='Atom_Name_Input')\n",
    "    input_atom_location = Input(shape=(atom_location_vector_list_padded.shape[1],), name='Atom_Location_Input')  # Adjust the shape based on actual padding\n",
    "    input_coordinate = Input(shape=(coordinate_vector_list_padded.shape[1], coordinate_vector_list_padded.shape[2]), name='Coordinate_Input')\n",
    "    \n",
    "    # Example processing layers for each input type\n",
    "    atom_name_processed = LSTM(32)(input_atom_name)\n",
    "    atom_location_processed = Dense(32, activation='relu')(input_atom_location)\n",
    "    coordinate_processed = LSTM(32)(input_coordinate)\n",
    "    \n",
    "    combined = Concatenate()([input_structured, atom_name_processed, atom_location_processed, coordinate_processed])\n",
    "    \n",
    "    x = Dense(64, activation='relu')(combined)\n",
    "    x = Dense(32, activation='relu')(x)\n",
    "    \n",
    "    output = Dense(1, name='Output')(x)\n",
    "    \n",
    "    model = Model(inputs=[input_structured, input_atom_name, input_atom_location, input_coordinate], outputs=[output])\n",
    "    model.compile(optimizer='adam', loss='mean_squared_error', metrics=['mae'])\n",
    "    \n",
    "    return model"
   ],
   "metadata": {
    "collapsed": false,
    "ExecuteTime": {
     "end_time": "2024-03-07T06:11:00.617186Z",
     "start_time": "2024-03-07T06:11:00.615596Z"
    }
   },
   "id": "ffd0e9ad0984579",
   "execution_count": 11
  },
  {
   "cell_type": "code",
   "outputs": [],
   "source": [
    "def plot_info(history):\n",
    "    # Plot training & validation loss values\n",
    "    plt.figure(figsize=(12, 4))\n",
    "    \n",
    "    plt.subplot(1, 2, 1)\n",
    "    plt.plot(history.history['loss'], label='Train')\n",
    "    plt.plot(history.history['val_loss'], label='Validation')\n",
    "    plt.title('Model Loss')\n",
    "    plt.ylabel('Loss')\n",
    "    plt.xlabel('Epoch')\n",
    "    plt.legend()\n",
    "    \n",
    "    # Plot training & validation MAE values\n",
    "    plt.subplot(1, 2, 2)\n",
    "    plt.plot(history.history['mae'], label='Train')\n",
    "    plt.plot(history.history['val_mae'], label='Validation')\n",
    "    plt.title('Model MAE')\n",
    "    plt.ylabel('MAE')\n",
    "    plt.xlabel('Epoch')\n",
    "    plt.legend()\n",
    "\n",
    "    plt.tight_layout()\n",
    "    plt.show()"
   ],
   "metadata": {
    "collapsed": false,
    "ExecuteTime": {
     "end_time": "2024-03-07T06:11:00.623090Z",
     "start_time": "2024-03-07T06:11:00.618427Z"
    }
   },
   "id": "432077441c46de82",
   "execution_count": 12
  },
  {
   "cell_type": "code",
   "outputs": [],
   "source": [
    "### The main function below drives the entire code. It prepares the dataset, builds a model with appropriate parameters, evaluates the model and predicts on the test data. Finally, plots some performance metrics.\n",
    "def main():\n",
    "    raw_df = final_data_df\n",
    "    atom_name_vector_list_padded, atom_location_vector_list_padded, coordinate_vector_list_padded, X_structured, energy_value_change = prep_data(raw_df)\n",
    "\n",
    "    # Build a DL model\n",
    "    model = build_model(atom_name_vector_list_padded, atom_location_vector_list_padded, coordinate_vector_list_padded, X_structured)\n",
    "\n",
    "    num_epochs = 10\n",
    "    batch_size = 32\n",
    "    earlystop_callback = EarlyStopping(monitor = 'val_accuracy', min_delta = 0.0001, patience = 10)\n",
    "    \n",
    "    \n",
    "    X_train, X_test, y_train, y_test = split_data(atom_name_vector_list_padded, atom_location_vector_list_padded, coordinate_vector_list_padded, X_structured, energy_value_change)\n",
    "    \n",
    "    history = model.fit(X_train, y_train, epochs=num_epochs, batch_size=batch_size, callbacks = [earlystop_callback], validation_split = 0.2, verbose = 1)\n",
    "    \n",
    "    score = model.evaluate(X_test, y_test, verbose=0)\n",
    "    print(f'Test loss: {score[0]}')\n",
    "    print(f'Test accuracy: {score[1]}')\n",
    "\n",
    "    y_pred = model.predict(X_test)\n",
    "    # Assuming y_true contains the actual values and y_pred contains the model's predictions\n",
    "\n",
    "    mae = mean_absolute_error(y_test, y_pred)\n",
    "    mse = mean_squared_error(y_test, y_pred)\n",
    "    rmse = np.sqrt(mse)\n",
    "    r2 = r2_score(y_test, y_pred)\n",
    "\n",
    "    print(f\"Mean Absolute Error (MAE): {mae}\")\n",
    "    print(f\"Mean Squared Error (MSE): {mse}\")\n",
    "    print(f\"Root Mean Squared Error (RMSE): {rmse}\")\n",
    "    print(f\"R-squared (R²): {r2}\")\n",
    "   \n",
    "    plot_info(history)"
   ],
   "metadata": {
    "collapsed": false,
    "ExecuteTime": {
     "end_time": "2024-03-07T06:11:00.624611Z",
     "start_time": "2024-03-07T06:11:00.622772Z"
    }
   },
   "id": "8bddb0cbd198e68c",
   "execution_count": 13
  },
  {
   "cell_type": "code",
   "outputs": [
    {
     "name": "stderr",
     "output_type": "stream",
     "text": [
      "/Users/robertspataru/anaconda3/lib/python3.11/site-packages/sklearn/preprocessing/_encoders.py:972: FutureWarning: `sparse` was renamed to `sparse_output` in version 1.2 and will be removed in 1.4. `sparse_output` is ignored unless you leave `sparse` to its default value.\n",
      "  warnings.warn(\n"
     ]
    },
    {
     "name": "stdout",
     "output_type": "stream",
     "text": [
      "Epoch 1/10\n",
      "75/75 [==============================] - 2s 12ms/step - loss: 1.8105 - mae: 1.0992 - val_loss: 1.2937 - val_mae: 0.9399\n",
      "Epoch 2/10\n",
      "75/75 [==============================] - 0s 5ms/step - loss: 1.1285 - mae: 0.8717 - val_loss: 0.9271 - val_mae: 0.8127\n",
      "Epoch 3/10\n",
      "75/75 [==============================] - 0s 6ms/step - loss: 0.9362 - mae: 0.7920 - val_loss: 1.2518 - val_mae: 0.8810\n",
      "Epoch 4/10\n",
      "75/75 [==============================] - 0s 5ms/step - loss: 0.8264 - mae: 0.7329 - val_loss: 0.7051 - val_mae: 0.6941\n",
      "Epoch 5/10\n",
      "75/75 [==============================] - 0s 5ms/step - loss: 0.7263 - mae: 0.6914 - val_loss: 0.7252 - val_mae: 0.6940\n",
      "Epoch 6/10\n",
      "75/75 [==============================] - 1s 8ms/step - loss: 0.6423 - mae: 0.6396 - val_loss: 0.6595 - val_mae: 0.6739\n",
      "Epoch 7/10\n",
      "75/75 [==============================] - 1s 10ms/step - loss: 0.6021 - mae: 0.6185 - val_loss: 0.7526 - val_mae: 0.6847\n",
      "Epoch 8/10\n",
      "75/75 [==============================] - 0s 6ms/step - loss: 0.5538 - mae: 0.5848 - val_loss: 0.5256 - val_mae: 0.5852\n",
      "Epoch 9/10\n",
      "75/75 [==============================] - 0s 5ms/step - loss: 0.4814 - mae: 0.5406 - val_loss: 0.6031 - val_mae: 0.6218\n",
      "Epoch 10/10\n",
      "75/75 [==============================] - 0s 5ms/step - loss: 0.4918 - mae: 0.5415 - val_loss: 0.6824 - val_mae: 0.6628\n",
      "Test loss: 0.6610184907913208\n",
      "Test accuracy: 0.6467905640602112\n",
      "24/24 [==============================] - 0s 1ms/step\n",
      "Mean Absolute Error (MAE): 0.6467905312121394\n",
      "Mean Squared Error (MSE): 0.66101854741783\n",
      "Root Mean Squared Error (RMSE): 0.8130304713956482\n",
      "R-squared (R²): 0.6901663496849038\n"
     ]
    },
    {
     "data": {
      "text/plain": "<Figure size 1200x400 with 2 Axes>",
      "image/png": "[encoded data removed]"
     },
     "metadata": {},
     "output_type": "display_data"
    }
   ],
   "source": [
    "  if __name__ == '__main__':\n",
    "    main()"
   ],
   "metadata": {
    "collapsed": false,
    "ExecuteTime": {
     "end_time": "2024-03-07T06:11:07.503836Z",
     "start_time": "2024-03-07T06:11:00.627989Z"
    }
   },
   "id": "4d80519f58804727",
   "execution_count": 14
  },
  {
   "cell_type": "code",
   "outputs": [],
   "source": [],
   "metadata": {
    "collapsed": false,
    "ExecuteTime": {
     "end_time": "2024-03-07T06:11:07.504610Z",
     "start_time": "2024-03-07T06:11:07.501931Z"
    }
   },
   "id": "73272c692707ec34",
   "execution_count": 14
  }
 ],
 "metadata": {
  "kernelspec": {
   "display_name": "Python 3",
   "language": "python",
   "name": "python3"
  },
  "language_info": {
   "codemirror_mode": {
    "name": "ipython",
    "version": 2
   },
   "file_extension": ".py",
   "mimetype": "text/x-python",
   "name": "python",
   "nbconvert_exporter": "python",
   "pygments_lexer": "ipython2",
   "version": "2.7.6"
  }
 },
 "nbformat": 4,
 "nbformat_minor": 5
}
