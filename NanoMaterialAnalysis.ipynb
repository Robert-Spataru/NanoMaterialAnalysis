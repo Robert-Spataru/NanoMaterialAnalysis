{
 "cells": [
  {
   "cell_type": "code",
   "execution_count": 148,
   "id": "initial_id",
   "metadata": {
    "collapsed": true,
    "ExecuteTime": {
     "end_time": "2024-02-29T05:54:29.465022Z",
     "start_time": "2024-02-29T05:54:29.451467Z"
    }
   },
   "outputs": [
    {
     "data": {
      "text/plain": "'\\n#Task: Predict the change in energy of the structure given the host structure (xyz data (which contains the x,y,z coordinates of each atom in the structure) + element list data (which contains the elements within the structure and match up in order with their corresponding coordinates in space as the xyz data coordinates)) and the index of the molecule that is removed (use hot one encoding to represent the molecule that was removed: Mo: Molybdenum, S: Sulfur, Se: Selenium, Te: Tellurium, W: Tungsten)\\n\\n#Machine Learning Task Type: Deep Learning Neural Network that learns a relationship between the associated change in the structure of the host and the corresponding change in energy of the structure\\n'"
     },
     "execution_count": 148,
     "metadata": {},
     "output_type": "execute_result"
    }
   ],
   "source": [
    "\"\"\"\n",
    "#Task: Predict the change in energy of the structure given the host structure (xyz data (which contains the x,y,z coordinates of each atom in the structure) + element list data (which contains the elements within the structure and match up in order with their corresponding coordinates in space as the xyz data coordinates)) and the index of the molecule that is removed (use hot one encoding to represent the molecule that was removed: Mo: Molybdenum, S: Sulfur, Se: Selenium, Te: Tellurium, W: Tungsten)\n",
    "\n",
    "#Machine Learning Task Type: Deep Learning Neural Network that learns a relationship between the associated change in the structure of the host and the corresponding change in energy of the structure\n",
    "\"\"\""
   ]
  },
  {
   "cell_type": "code",
   "outputs": [
    {
     "name": "stdout",
     "output_type": "stream",
     "text": [
      "  Structure_Combination  Atom_Removed_Location  Energy_Value_Change\n",
      "0                   1_1                      7              -6.8879\n",
      "1                   1_1                      3              -7.0395\n",
      "2                   1_1                      1              -6.3746\n",
      "3                  1_11                      2              -5.4809\n",
      "4                  1_11                     13              -4.8951\n"
     ]
    }
   ],
   "source": [
    "#Step 1: \n",
    "import pandas as pd\n",
    "import os\n",
    "folder_path = '/Users/robertspataru/Desktop/project_newData'\n",
    "output_file = 'vac_origHost_compiled.csv'\n",
    "csv_files = ['vac_Mo_origHost.csv', 'vac_S_origHost.csv', 'vac_Se_origHost.csv', 'vac_Te_origHost.csv', 'vac_W_origHost.csv']\n",
    "column_names = ['Structure_Combination', 'Atom_Removed_Location', 'Energy_Value_Change']  \n",
    "\n",
    "possible_elements_removed = ['Mo', 'S', 'Se', 'Te', 'W']\n",
    "dfs_vac_origHost = []\n",
    "for file_name in csv_files:\n",
    "    full_file_path = os.path.join(folder_path, file_name)\n",
    "    df = pd.read_csv(full_file_path, header = None)\n",
    "    df.columns = column_names\n",
    "    dfs_vac_origHost.append(df)\n",
    "df_vac_origHost = pd.concat(dfs_vac_origHost, ignore_index = True)\n",
    "#print(df_vac_origHost.head())\n"
   ],
   "metadata": {
    "collapsed": false,
    "ExecuteTime": {
     "end_time": "2024-02-29T05:54:29.508547Z",
     "start_time": "2024-02-29T05:54:29.469831Z"
    }
   },
   "id": "6c788ace9c1f1764",
   "execution_count": 150
  },
  {
   "cell_type": "code",
   "outputs": [
    {
     "name": "stdout",
     "output_type": "stream",
     "text": [
      "  Atom_Name  X-Coordinate  Y-Coordinate  Z-Coordinate\n",
      "0        Mo        -0.000       0.00408       0.49999\n",
      "1        Mo         0.125       0.25408       0.49999\n",
      "2        Mo         0.250       0.00408       0.49999\n",
      "3        Mo         0.375       0.25408       0.49999\n",
      "4        Mo         0.500       0.00408       0.49999\n"
     ]
    }
   ],
   "source": [
    "#Step 2: \n",
    "\n",
    "input_file = '/Users/robertspataru/Desktop/project_newData/CIFhost_generic_compiled.txt'\n",
    "output_file = 'CIFhost_generic_compiled.csv'\n",
    "\n",
    "initial_column_names = ['Atom_Name', 'X-Coordinate', 'Y-Coordinate', 'Z-Coordinate']\n",
    "orig_df_CIFs_sorted = []\n",
    "\n",
    "orig_df_CIFs_sorted = pd.read_csv(input_file, sep = '\\s+', header = None)\n",
    "orig_df_CIFs_sorted.columns = initial_column_names\n",
    "\n",
    "#(orig_df_CIFs_sorted.head())"
   ],
   "metadata": {
    "collapsed": false,
    "ExecuteTime": {
     "end_time": "2024-02-29T05:54:29.509226Z",
     "start_time": "2024-02-29T05:54:29.492067Z"
    }
   },
   "id": "6e9aee74eb956632",
   "execution_count": 151
  },
  {
   "cell_type": "code",
   "outputs": [
    {
     "name": "stdout",
     "output_type": "stream",
     "text": [
      "  Atom_Name Structure_Combination  Atom_Location  X-Coordinate  Y-Coordinate  \\\n",
      "0        Mo                   1_1              1        -0.000       0.00408   \n",
      "1        Mo                   1_1              2         0.125       0.25408   \n",
      "2        Mo                   1_1              3         0.250       0.00408   \n",
      "3        Mo                   1_1              4         0.375       0.25408   \n",
      "4        Mo                   1_1              5         0.500       0.00408   \n",
      "\n",
      "   Z-Coordinate  \n",
      "0       0.49999  \n",
      "1       0.49999  \n",
      "2       0.49999  \n",
      "3       0.49999  \n",
      "4       0.49999  \n"
     ]
    }
   ],
   "source": [
    "#Step #3:\n",
    "\n",
    "middle_column_names = ['Atom_Name','Structure_Combination', 'Atom_Location', 'X-Coordinate', 'Y-Coordinate', 'Z-Coordinate']\n",
    "mid_df_CIFs_sorted = orig_df_CIFs_sorted\n",
    "\n",
    "Atom_Location_List = []\n",
    "Structure_Combination_List = []\n",
    "\n",
    "x = 1\n",
    "y = 1\n",
    "num_rows = len(orig_df_CIFs_sorted.index)\n",
    "\n",
    "for i in range(num_rows):\n",
    "    # Append the current atom location, resetting to 1 after every 48 atoms\n",
    "    Atom_Location_List.append((i % 48) + 1)\n",
    "    \n",
    "    # Construct the structure combination string and append it to the list\n",
    "    Structure_Combination_List.append(f\"{x}_{y}\")\n",
    "    \n",
    "    # Check if we've reached the end of a structure combination (every 48 atoms)\n",
    "    if (i + 1) % 48 == 0:\n",
    "        y += 1  # Increment y after every 48 atoms\n",
    "        if y > 72:\n",
    "            y = 1  # Reset y back to 1 after reaching 72\n",
    "            x += 1  # Increment x when y resets\n",
    "\n",
    "\n",
    "mid_df_CIFs_sorted.insert(loc = 1, column = middle_column_names[1], value = Structure_Combination_List)\n",
    "mid_df_CIFs_sorted.insert(loc = 2, column = middle_column_names[2], value = Atom_Location_List)\n",
    "\n",
    "#print(mid_df_CIFs_sorted.head())\n"
   ],
   "metadata": {
    "collapsed": false,
    "ExecuteTime": {
     "end_time": "2024-02-29T05:54:29.527091Z",
     "start_time": "2024-02-29T05:54:29.514981Z"
    }
   },
   "id": "78c4513c2b3d53c",
   "execution_count": 152
  },
  {
   "cell_type": "code",
   "outputs": [
    {
     "name": "stdout",
     "output_type": "stream",
     "text": [
      "  Atom_Name_Vector Structure_Combination  Atom_Location  \\\n",
      "0  [1, 0, 0, 0, 0]                   1_1              1   \n",
      "1  [1, 0, 0, 0, 0]                   1_1              2   \n",
      "2  [1, 0, 0, 0, 0]                   1_1              3   \n",
      "3  [1, 0, 0, 0, 0]                   1_1              4   \n",
      "4  [1, 0, 0, 0, 0]                   1_1              5   \n",
      "\n",
      "           Coordinate_Vector  \n",
      "0   [-0.0, 0.00408, 0.49999]  \n",
      "1  [0.125, 0.25408, 0.49999]  \n",
      "2   [0.25, 0.00408, 0.49999]  \n",
      "3  [0.375, 0.25408, 0.49999]  \n",
      "4    [0.5, 0.00408, 0.49999]  \n"
     ]
    }
   ],
   "source": [
    "#Step #4: \n",
    "\n",
    "mid_2_column_names = ['Atom_Name_Vector', 'Structure_Combination', 'Atom_Location', 'Coordinate_Vector']\n",
    "mid_2_df_CIFs_sorted = mid_df_CIFs_sorted\n",
    "\n",
    "Atom_Name_Column = mid_2_df_CIFs_sorted['Atom_Name']\n",
    "Atom_Name_Vector_List = []\n",
    "for atom in Atom_Name_Column:\n",
    "    atom_name_vector = [0] * len(possible_elements_removed)\n",
    "    index_to_encode = possible_elements_removed.index(atom)\n",
    "    atom_name_vector[index_to_encode] = 1\n",
    "    Atom_Name_Vector_List.append(atom_name_vector)\n",
    "\n",
    "Coordinate_Vector_List = []\n",
    "for i in range(num_rows):\n",
    "    coordinate_vector = [mid_2_df_CIFs_sorted.loc[i, 'X-Coordinate'], mid_2_df_CIFs_sorted.loc[i, 'Y-Coordinate'], mid_2_df_CIFs_sorted.loc[i, 'Z-Coordinate']]\n",
    "    Coordinate_Vector_List.append(coordinate_vector)\n",
    "\n",
    "mid_2_df_CIFs_sorted['Atom_Name'] = Atom_Name_Vector_List\n",
    "mid_2_df_CIFs_sorted.rename(columns = {'Atom_Name': mid_2_column_names[0]}, inplace = True)\n",
    "\n",
    "mid_2_df_CIFs_sorted.drop(['X-Coordinate', 'Y-Coordinate', 'Z-Coordinate'], axis = 1, inplace = True)\n",
    "mid_2_df_CIFs_sorted[mid_2_column_names[3]] = Coordinate_Vector_List\n",
    "\n",
    "#print(mid_2_df_CIFs_sorted.head())\n",
    "\n",
    "\n"
   ],
   "metadata": {
    "collapsed": false,
    "ExecuteTime": {
     "end_time": "2024-02-29T05:54:30.386599Z",
     "start_time": "2024-02-29T05:54:29.522383Z"
    }
   },
   "id": "e4c1993633aeddc6",
   "execution_count": 153
  },
  {
   "cell_type": "code",
   "outputs": [
    {
     "name": "stdout",
     "output_type": "stream",
     "text": [
      "[[1, 0, 0, 0, 0], [1, 0, 0, 0, 0], [1, 0, 0, 0, 0], [1, 0, 0, 0, 0], [1, 0, 0, 0, 0], [1, 0, 0, 0, 0], [1, 0, 0, 0, 0], [1, 0, 0, 0, 0], [1, 0, 0, 0, 0], [1, 0, 0, 0, 0], [1, 0, 0, 0, 0], [1, 0, 0, 0, 0], [1, 0, 0, 0, 0], [1, 0, 0, 0, 0], [1, 0, 0, 0, 0], [1, 0, 0, 0, 0], [0, 1, 0, 0, 0], [0, 0, 1, 0, 0], [0, 0, 1, 0, 0], [0, 0, 1, 0, 0], [0, 1, 0, 0, 0], [0, 1, 0, 0, 0], [0, 1, 0, 0, 0], [0, 1, 0, 0, 0], [0, 1, 0, 0, 0], [0, 1, 0, 0, 0], [0, 0, 1, 0, 0], [0, 1, 0, 0, 0], [0, 0, 1, 0, 0], [0, 1, 0, 0, 0], [0, 0, 1, 0, 0], [0, 1, 0, 0, 0], [0, 1, 0, 0, 0], [0, 1, 0, 0, 0], [0, 0, 1, 0, 0], [0, 1, 0, 0, 0], [0, 1, 0, 0, 0], [0, 0, 1, 0, 0], [0, 1, 0, 0, 0], [0, 0, 1, 0, 0], [0, 0, 1, 0, 0], [0, 1, 0, 0, 0], [0, 1, 0, 0, 0], [0, 0, 1, 0, 0], [0, 1, 0, 0, 0], [0, 1, 0, 0, 0], [0, 1, 0, 0, 0], [0, 0, 1, 0, 0]]\n",
      "1_1\n",
      "[1, 2, 3, 4, 5, 6, 7, 8, 9, 10, 11, 12, 13, 14, 15, 16, 17, 18, 19, 20, 21, 22, 23, 24, 25, 26, 27, 28, 29, 30, 31, 32, 33, 34, 35, 36, 37, 38, 39, 40, 41, 42, 43, 44, 45, 46, 47, 48]\n",
      "[[-0.0, 0.00408, 0.49999], [0.125, 0.25408, 0.49999], [0.25, 0.00408, 0.49999], [0.375, 0.25408, 0.49999], [0.5, 0.00408, 0.49999], [0.625, 0.25408, 0.49999], [0.75, 0.00408, 0.49999], [0.875, 0.25408, 0.49999], [0.5, 0.50408, 0.49999], [0.625, 0.75408, 0.5], [0.75, 0.50408, 0.49999], [0.875, 0.75408, 0.5], [-0.0, 0.50408, 0.49999], [0.125, 0.75408, 0.5], [0.25, 0.50408, 0.49999], [0.375, 0.75408, 0.5], [-0.0, 0.3374, 0.57788], [-0.0, 0.33741, 0.42209], [0.125, 0.0874, 0.57788], [0.125, 0.08741, 0.4221], [0.25, 0.3374, 0.57788], [0.25, 0.33741, 0.4221], [0.375, 0.0874, 0.57788], [0.375, 0.08741, 0.4221], [0.5, 0.3374, 0.57788], [0.5, 0.33741, 0.4221], [0.625, 0.0874, 0.57788], [0.625, 0.08741, 0.4221], [0.75, 0.3374, 0.57788], [0.75, 0.33741, 0.4221], [0.875, 0.0874, 0.57788], [0.875, 0.08741, 0.4221], [0.5, 0.83741, 0.57789], [0.5, 0.8374, 0.42211], [0.625, 0.58738, 0.57788], [0.625, 0.58743, 0.4221], [0.75, 0.83741, 0.57789], [0.75, 0.8374, 0.42211], [0.875, 0.58738, 0.57788], [0.875, 0.58743, 0.4221], [-0.0, 0.83741, 0.57789], [-0.0, 0.8374, 0.42211], [0.125, 0.58738, 0.57788], [0.125, 0.58743, 0.4221], [0.25, 0.83741, 0.57789], [0.25, 0.8374, 0.42211], [0.375, 0.58738, 0.57788], [0.375, 0.58743, 0.4221]]\n"
     ]
    }
   ],
   "source": [
    "final_column_names = ['Atom_Name_Vector_List','Structure_Combination', 'Atom_Location_Vector_List','Coordinate_Vector_List']\n",
    "final_df_CIFs_sorted = mid_2_df_CIFs_sorted\n",
    "\n",
    "atom_name_vector_list = []\n",
    "temp_atom_name_vector_list = []\n",
    "\n",
    "structure_combination_list = []\n",
    "\n",
    "atom_location_vector_list = []\n",
    "temp_atom_location_vector_list = []\n",
    "\n",
    "coordinate_vector_list = []\n",
    "temp_coordinate_vector_list = []\n",
    "\n",
    "\n",
    "\n",
    "for row_index in range(1, num_rows + 1):\n",
    "        temp_atom_name_vector_list.append(final_df_CIFs_sorted.iloc[row_index - 1]['Atom_Name_Vector'])\n",
    "        \n",
    "        temp_atom_location_vector_list.append(final_df_CIFs_sorted.iloc[row_index - 1]['Atom_Location'])\n",
    "        \n",
    "        temp_coordinate_vector_list.append(final_df_CIFs_sorted.iloc[row_index - 1]['Coordinate_Vector'])\n",
    "        \n",
    "        if row_index % 48 == 0:\n",
    "            atom_name_vector_list.append(temp_atom_name_vector_list)\n",
    "            temp_atom_name_vector_list = []\n",
    "            \n",
    "            structure_combination_list.append(final_df_CIFs_sorted.iloc[row_index - 1]['Structure_Combination'])\n",
    "        \n",
    "            atom_location_vector_list.append(temp_atom_location_vector_list)\n",
    "            temp_atom_location_vector_list = []\n",
    "        \n",
    "            coordinate_vector_list.append(temp_coordinate_vector_list)\n",
    "            temp_coordinate_vector_list = []\n",
    "\n",
    "#print(atom_name_vector_list[0])\n",
    "#print(structure_combination_list[0])\n",
    "#print(atom_location_vector_list[0])\n",
    "#print(coordinate_vector_list[0])\n"
   ],
   "metadata": {
    "collapsed": false,
    "ExecuteTime": {
     "end_time": "2024-02-29T05:54:44.167909Z",
     "start_time": "2024-02-29T05:54:43.286212Z"
    }
   },
   "id": "33cfaa17af9cbeb9",
   "execution_count": 155
  },
  {
   "cell_type": "code",
   "outputs": [],
   "source": [
    "#Combine both of the pandas dataframes into one large .csv file by going through each sentence of the combined .csv file and then matching the specific structure combination with the corresponding 48 atoms and their coordinate space. Then, delete the duplicate column that contains the structure combination in the form x_y."
   ],
   "metadata": {
    "collapsed": false,
    "ExecuteTime": {
     "start_time": "2024-02-29T05:54:30.425137Z"
    }
   },
   "id": "878b5843c63a4d7a",
   "execution_count": null
  },
  {
   "cell_type": "code",
   "outputs": [],
   "source": [
    "from sklearn.preprocessing import StandardScaler\n",
    "#Step : \n",
    "#create a python function to generate a machine learning model \n",
    "#\n"
   ],
   "metadata": {
    "collapsed": false,
    "ExecuteTime": {
     "end_time": "2024-02-29T05:54:30.426817Z",
     "start_time": "2024-02-29T05:54:30.426768Z"
    }
   },
   "id": "7e5aa83c713e1a45",
   "execution_count": null
  },
  {
   "cell_type": "code",
   "outputs": [],
   "source": [
    "#Step \n",
    "import numpy as np\n",
    "import tensorflow as tf\n",
    "from tensorflow.keras import layers, models, optimizers"
   ],
   "metadata": {
    "collapsed": false,
    "ExecuteTime": {
     "end_time": "2024-02-29T05:54:30.428229Z",
     "start_time": "2024-02-29T05:54:30.427622Z"
    }
   },
   "id": "274f3a8abb8e8db6",
   "execution_count": null
  },
  {
   "cell_type": "code",
   "outputs": [],
   "source": [
    "#Step : learn the correct hyperparameters"
   ],
   "metadata": {
    "collapsed": false,
    "ExecuteTime": {
     "end_time": "2024-02-29T05:54:30.428663Z",
     "start_time": "2024-02-29T05:54:30.428395Z"
    }
   },
   "id": "11ee9310d5020bba",
   "execution_count": null
  },
  {
   "cell_type": "code",
   "outputs": [],
   "source": [
    "#Step : load in test data to test model and print out performance mertrics"
   ],
   "metadata": {
    "collapsed": false,
    "ExecuteTime": {
     "start_time": "2024-02-29T05:54:30.428868Z"
    }
   },
   "id": "4cd332a1625e2d9",
   "execution_count": null
  },
  {
   "cell_type": "code",
   "outputs": [],
   "source": [
    "#hyperparameter tuning (random/grid search)\n",
    "\n",
    "#standarize the energy loss values, and then turn them back to normal values when wanting to predic the associated energy value\n",
    "\n",
    "#posssibly make a function to take the nearest x (must create a hyperparameter and test different values of x) atoms and their corresponding x, y, z coordinates from the .CIF files for each of the atoms that were removed from their structure"
   ],
   "metadata": {
    "collapsed": false,
    "ExecuteTime": {
     "start_time": "2024-02-29T05:54:30.429324Z"
    }
   },
   "id": "4ed7028fe1045f9e",
   "execution_count": null
  },
  {
   "cell_type": "code",
   "outputs": [],
   "source": [
    "#: test model again and print out new performance metrics "
   ],
   "metadata": {
    "collapsed": false,
    "ExecuteTime": {
     "start_time": "2024-02-29T05:54:30.429794Z"
    }
   },
   "id": "b4927c8386234407",
   "execution_count": null
  }
 ],
 "metadata": {
  "kernelspec": {
   "display_name": "Python 3",
   "language": "python",
   "name": "python3"
  },
  "language_info": {
   "codemirror_mode": {
    "name": "ipython",
    "version": 2
   },
   "file_extension": ".py",
   "mimetype": "text/x-python",
   "name": "python",
   "nbconvert_exporter": "python",
   "pygments_lexer": "ipython2",
   "version": "2.7.6"
  }
 },
 "nbformat": 4,
 "nbformat_minor": 5
}
