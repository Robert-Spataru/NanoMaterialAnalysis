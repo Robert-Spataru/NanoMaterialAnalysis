{
 "cells": [
  {
   "cell_type": "code",
   "execution_count": 2,
   "id": "initial_id",
   "metadata": {
    "collapsed": true,
    "ExecuteTime": {
     "end_time": "2024-03-01T17:45:46.414769Z",
     "start_time": "2024-03-01T17:45:46.406766Z"
    }
   },
   "outputs": [
    {
     "data": {
      "text/plain": "'\\n#Task: Predict the change in energy of the structure given the host structure (xyz data (which contains the x,y,z coordinates of each atom in the structure) + element list data (which contains the elements within the structure and match up in order with their corresponding coordinates in space as the xyz data coordinates)) and the index of the molecule that is removed (use hot one encoding to represent the molecule that was removed: Mo: Molybdenum, S: Sulfur, Se: Selenium, Te: Tellurium, W: Tungsten)\\n\\n#Machine Learning Task Type: Deep Learning Neural Network that learns a relationship between the associated change in the structure of the host and the corresponding change in energy of the structure\\n'"
     },
     "execution_count": 2,
     "metadata": {},
     "output_type": "execute_result"
    }
   ],
   "source": [
    "\"\"\"\n",
    "#Task: Predict the change in energy of the structure given the host structure (xyz data (which contains the x,y,z coordinates of each atom in the structure) + element list data (which contains the elements within the structure and match up in order with their corresponding coordinates in space as the xyz data coordinates)) and the index of the molecule that is removed (use hot one encoding to represent the molecule that was removed: Mo: Molybdenum, S: Sulfur, Se: Selenium, Te: Tellurium, W: Tungsten)\n",
    "\n",
    "#Machine Learning Task Type: Deep Learning Neural Network that learns a relationship between the associated change in the structure of the host and the corresponding change in energy of the structure\n",
    "\"\"\""
   ]
  },
  {
   "cell_type": "code",
   "outputs": [],
   "source": [
    "#import python/ml packages\n",
    "\n",
    "import pandas as pd\n",
    "import numpy as np\n",
    "import os\n",
    "\n",
    "from sklearn.preprocessing import StandardScaler\n",
    "from sklearn.model_selection import train_test_split\n",
    "import tensorflow as tf\n",
    "from tensorflow import keras\n",
    "from tensorflow.keras import layers, models, optimizers\n",
    "import matplotlib.pyplot as plt\n",
    "import seaborn as sns\n",
    "import sweetviz as sv\n",
    "from tensorflow.keras.callbacks import EarlyStopping\n",
    "from sklearn.metrics import mean_absolute_error, mean_squared_error, r2_score"
   ],
   "metadata": {
    "collapsed": false
   },
   "id": "1040d3a18a9f6496"
  },
  {
   "cell_type": "code",
   "outputs": [],
   "source": [
    "#Step 1: \n",
    "folder_path = '/Users/robertspataru/Desktop/project_newData'\n",
    "output_file = 'vac_origHost_compiled.csv'\n",
    "csv_files = ['vac_Mo_origHost.csv', 'vac_S_origHost.csv', 'vac_Se_origHost.csv', 'vac_Te_origHost.csv', 'vac_W_origHost.csv']\n",
    "column_names = ['Structure_Combination', 'Atom_Removed_Location', 'Energy_Value_Change']  \n",
    "\n",
    "possible_elements_removed = ['Mo', 'S', 'Se', 'Te', 'W']\n",
    "dfs_vac_origHost = []\n",
    "for file_name in csv_files:\n",
    "    full_file_path = os.path.join(folder_path, file_name)\n",
    "    df = pd.read_csv(full_file_path, header = None)\n",
    "    df.columns = column_names\n",
    "    dfs_vac_origHost.append(df)\n",
    "df_vac_origHost = pd.concat(dfs_vac_origHost, ignore_index = True)\n",
    "#print(df_vac_origHost.head())"
   ],
   "metadata": {
    "collapsed": false,
    "ExecuteTime": {
     "end_time": "2024-03-01T17:45:46.873189Z",
     "start_time": "2024-03-01T17:45:46.410129Z"
    }
   },
   "id": "6c788ace9c1f1764",
   "execution_count": 3
  },
  {
   "cell_type": "code",
   "outputs": [],
   "source": [
    "#Step 2: \n",
    "\n",
    "input_file = '/Users/robertspataru/Desktop/project_newData/CIFhost_generic_compiled.txt'\n",
    "output_file = 'CIFhost_generic_compiled.csv'\n",
    "\n",
    "initial_column_names = ['Atom_Name', 'X-Coordinate', 'Y-Coordinate', 'Z-Coordinate']\n",
    "orig_df_CIFs_sorted = []\n",
    "\n",
    "orig_df_CIFs_sorted = pd.read_csv(input_file, sep = '\\s+', header = None)\n",
    "orig_df_CIFs_sorted.columns = initial_column_names\n",
    "\n",
    "#(orig_df_CIFs_sorted.head())"
   ],
   "metadata": {
    "collapsed": false,
    "ExecuteTime": {
     "end_time": "2024-03-01T17:45:46.885334Z",
     "start_time": "2024-03-01T17:45:46.873771Z"
    }
   },
   "id": "6e9aee74eb956632",
   "execution_count": 4
  },
  {
   "cell_type": "code",
   "outputs": [],
   "source": [
    "#Step #3:\n",
    "\n",
    "middle_column_names = ['Atom_Name','Structure_Combination', 'Atom_Location', 'X-Coordinate', 'Y-Coordinate', 'Z-Coordinate']\n",
    "mid_df_CIFs_sorted = orig_df_CIFs_sorted\n",
    "\n",
    "Atom_Location_List = []\n",
    "Structure_Combination_List = []\n",
    "\n",
    "x = 1\n",
    "y = 1\n",
    "num_rows = len(orig_df_CIFs_sorted.index)\n",
    "\n",
    "for i in range(num_rows):\n",
    "    # Append the current atom location, resetting to 1 after every 48 atoms\n",
    "    Atom_Location_List.append((i % 48) + 1)\n",
    "    \n",
    "    # Construct the structure combination string and append it to the list\n",
    "    Structure_Combination_List.append(f\"{x}_{y}\")\n",
    "    \n",
    "    # Check if we've reached the end of a structure combination (every 48 atoms)\n",
    "    if (i + 1) % 48 == 0:\n",
    "        y += 1  # Increment y after every 48 atoms\n",
    "        if y > 72:\n",
    "            y = 1  # Reset y back to 1 after reaching 72\n",
    "            x += 1  # Increment x when y resets\n",
    "\n",
    "\n",
    "mid_df_CIFs_sorted.insert(loc = 1, column = middle_column_names[1], value = Structure_Combination_List)\n",
    "mid_df_CIFs_sorted.insert(loc = 2, column = middle_column_names[2], value = Atom_Location_List)\n",
    "\n",
    "#print(mid_df_CIFs_sorted.head())"
   ],
   "metadata": {
    "collapsed": false,
    "ExecuteTime": {
     "end_time": "2024-03-01T17:45:46.903742Z",
     "start_time": "2024-03-01T17:45:46.891032Z"
    }
   },
   "id": "78c4513c2b3d53c",
   "execution_count": 5
  },
  {
   "cell_type": "code",
   "outputs": [],
   "source": [
    "#Step #4: \n",
    "\n",
    "mid_2_column_names = ['Atom_Name_Vector', 'Structure_Combination', 'Atom_Location', 'Coordinate_Vector']\n",
    "mid_2_df_CIFs_sorted = mid_df_CIFs_sorted\n",
    "\n",
    "Atom_Name_Column = mid_2_df_CIFs_sorted['Atom_Name']\n",
    "Atom_Name_Vector_List = []\n",
    "for atom in Atom_Name_Column:\n",
    "    atom_name_vector = [0] * len(possible_elements_removed)\n",
    "    index_to_encode = possible_elements_removed.index(atom)\n",
    "    atom_name_vector[index_to_encode] = 1\n",
    "    Atom_Name_Vector_List.append(atom_name_vector)\n",
    "\n",
    "Coordinate_Vector_List = []\n",
    "for i in range(num_rows):\n",
    "    coordinate_vector = [mid_2_df_CIFs_sorted.loc[i, 'X-Coordinate'], mid_2_df_CIFs_sorted.loc[i, 'Y-Coordinate'], mid_2_df_CIFs_sorted.loc[i, 'Z-Coordinate']]\n",
    "    Coordinate_Vector_List.append(coordinate_vector)\n",
    "\n",
    "mid_2_df_CIFs_sorted['Atom_Name'] = Atom_Name_Vector_List\n",
    "mid_2_df_CIFs_sorted.rename(columns = {'Atom_Name': 'Atom_Name_Vector'}, inplace = True)\n",
    "\n",
    "mid_2_df_CIFs_sorted.drop(['X-Coordinate', 'Y-Coordinate', 'Z-Coordinate'], axis = 1, inplace = True)\n",
    "mid_2_df_CIFs_sorted['Coordinate_Vector'] = Coordinate_Vector_List\n",
    "\n",
    "#print(mid_2_df_CIFs_sorted.head())"
   ],
   "metadata": {
    "collapsed": false,
    "ExecuteTime": {
     "end_time": "2024-03-01T17:45:47.062436Z",
     "start_time": "2024-03-01T17:45:46.906008Z"
    }
   },
   "id": "e4c1993633aeddc6",
   "execution_count": 6
  },
  {
   "cell_type": "code",
   "outputs": [],
   "source": [
    "final_column_names = ['Atom_Name_Vector_List','Structure_Combination', 'Atom_Location_Vector_List','Coordinate_Vector_List']\n",
    "final_df_CIFs_sorted = pd.DataFrame()\n",
    "\n",
    "atom_name_vector_list = []\n",
    "temp_atom_name_vector_list = []\n",
    "\n",
    "structure_combination_list = []\n",
    "\n",
    "atom_location_vector_list = []\n",
    "temp_atom_location_vector_list = []\n",
    "\n",
    "coordinate_vector_list = []\n",
    "temp_coordinate_vector_list = []\n",
    "\n",
    "\n",
    "for row_index in range(1, num_rows + 1):\n",
    "        temp_atom_name_vector_list.append(mid_2_df_CIFs_sorted.iloc[row_index - 1]['Atom_Name_Vector'])\n",
    "        \n",
    "        temp_atom_location_vector_list.append(mid_2_df_CIFs_sorted.iloc[row_index - 1]['Atom_Location'])\n",
    "        \n",
    "        temp_coordinate_vector_list.append(mid_2_df_CIFs_sorted.iloc[row_index - 1]['Coordinate_Vector'])\n",
    "        \n",
    "        if row_index % 48 == 0:\n",
    "            atom_name_vector_list.append(temp_atom_name_vector_list)\n",
    "            temp_atom_name_vector_list = []\n",
    "            \n",
    "            structure_combination_list.append(mid_2_df_CIFs_sorted.iloc[row_index - 1]['Structure_Combination'])\n",
    "        \n",
    "            atom_location_vector_list.append(temp_atom_location_vector_list)\n",
    "            temp_atom_location_vector_list = []\n",
    "        \n",
    "            coordinate_vector_list.append(temp_coordinate_vector_list)\n",
    "            temp_coordinate_vector_list = []\n",
    "\n",
    "final_df_CIFs_sorted['Atom_Name_Vector_List'] = atom_name_vector_list\n",
    "\n",
    "final_df_CIFs_sorted['Structure_Combination'] = structure_combination_list\n",
    "\n",
    "final_df_CIFs_sorted['Atom_Location_Vector_List'] = atom_location_vector_list\n",
    "\n",
    "\n",
    "final_df_CIFs_sorted['Coordinate_Vector_List'] = coordinate_vector_list\n",
    "\n",
    "#print(final_df_CIFs_sorted.head())\n",
    "\n",
    "#print(atom_name_vector_list[0])\n",
    "#print(structure_combination_list[0])\n",
    "#print(atom_location_vector_list[0])\n",
    "#print(coordinate_vector_list[0])"
   ],
   "metadata": {
    "collapsed": false,
    "ExecuteTime": {
     "end_time": "2024-03-01T17:45:48.000121Z",
     "start_time": "2024-03-01T17:45:47.085240Z"
    }
   },
   "id": "33cfaa17af9cbeb9",
   "execution_count": 7
  },
  {
   "cell_type": "code",
   "outputs": [
    {
     "name": "stdout",
     "output_type": "stream",
     "text": [
      "  Structure_Combination  Atom_Removed_Location  Energy_Value_Change  \\\n",
      "0                   1_1                      7              -6.8879   \n",
      "1                   1_1                      3              -7.0395   \n",
      "2                   1_1                      1              -6.3746   \n",
      "3                  1_11                      2              -5.4809   \n",
      "4                  1_11                     13              -4.8951   \n",
      "\n",
      "                               Atom_Name_Vector_List  \\\n",
      "0  [[1, 0, 0, 0, 0], [1, 0, 0, 0, 0], [1, 0, 0, 0...   \n",
      "1  [[1, 0, 0, 0, 0], [1, 0, 0, 0, 0], [1, 0, 0, 0...   \n",
      "2  [[1, 0, 0, 0, 0], [1, 0, 0, 0, 0], [1, 0, 0, 0...   \n",
      "3  [[1, 0, 0, 0, 0], [1, 0, 0, 0, 0], [1, 0, 0, 0...   \n",
      "4  [[1, 0, 0, 0, 0], [1, 0, 0, 0, 0], [1, 0, 0, 0...   \n",
      "\n",
      "                           Atom_Location_Vector_List  \\\n",
      "0  [1, 2, 3, 4, 5, 6, 7, 8, 9, 10, 11, 12, 13, 14...   \n",
      "1  [1, 2, 3, 4, 5, 6, 7, 8, 9, 10, 11, 12, 13, 14...   \n",
      "2  [1, 2, 3, 4, 5, 6, 7, 8, 9, 10, 11, 12, 13, 14...   \n",
      "3  [1, 2, 3, 4, 5, 6, 7, 8, 9, 10, 11, 12, 13, 14...   \n",
      "4  [1, 2, 3, 4, 5, 6, 7, 8, 9, 10, 11, 12, 13, 14...   \n",
      "\n",
      "                              Coordinate_Vector_List  \n",
      "0  [[-0.0, 0.00408, 0.49999], [0.125, 0.25408, 0....  \n",
      "1  [[-0.0, 0.00408, 0.49999], [0.125, 0.25408, 0....  \n",
      "2  [[-0.0, 0.00408, 0.49999], [0.125, 0.25408, 0....  \n",
      "3  [[-0.0, 0.00408, 0.49999], [0.125, 0.25408, 0....  \n",
      "4  [[-0.0, 0.00408, 0.49999], [0.125, 0.25408, 0....  \n"
     ]
    }
   ],
   "source": [
    "#Combine both of the pandas dataframes into one large .csv file by going through each sentence of the combined .csv file and then matching the specific structure combination with the corresponding 48 atoms and their coordinate space. Then, delete the duplicate column that contains the structure combination in the form x_y.\n",
    "final_data_df = pd.merge(df_vac_origHost, final_df_CIFs_sorted, on = 'Structure_Combination', how = 'left')\n",
    "#make the column Energy_Value_Change the last column. Also sort the columns in an order that is more logical\n",
    "\n",
    "\n",
    "\n",
    "print(final_data_df.head())\n",
    "\n"
   ],
   "metadata": {
    "collapsed": false,
    "ExecuteTime": {
     "end_time": "2024-03-01T17:45:48.035617Z",
     "start_time": "2024-03-01T17:45:48.001624Z"
    }
   },
   "id": "878b5843c63a4d7a",
   "execution_count": 8
  },
  {
   "cell_type": "code",
   "outputs": [],
   "source": [
    "# Disable those annoying warnings\n",
    "tf.get_logger().setLevel('ERROR')\n",
    "\n",
    "# Turn off GPU usage for tf\n",
    "os.environ['CUDA_VISIBLE_DEVICES'] = '-1'\n",
    "os.environ[\"TF_CPP_MIN_LOG_LEVEL\"] = '2'"
   ],
   "metadata": {
    "collapsed": false
   },
   "id": "fe1150a75a69f124"
  },
  {
   "cell_type": "code",
   "outputs": [],
   "source": [
    "#define helper functions \n",
    "#make it so the paramater to this function are two seperate raw dataframes; one is the training set and the other is the test set\n",
    "def prep_data(raw_df):\n",
    "    \"\"\"\n",
    "    Prepare data that can be readily consumed by ML/DL algorithms.\n",
    "    - separate features from class variables\n",
    "    - split into training and testing dataset\n",
    "    - scale numerical data\n",
    "    \n",
    "    param: a dataframe of input data\n",
    "    output: X_train_normalized, X_test_normalized, y_train, y_test\n",
    "    \"\"\"\n",
    "    raw_data = raw_df.values\n",
    "    X, y = raw_data[:, :-1], raw_data[:, -1]\n",
    "\n",
    "    # Split into train and test set\n",
    "    X_train, X_test, y_train, y_test = train_test_split(X, y, test_size=0.20, random_state=42, stratify=y)\n",
    "\n",
    "    # normalize data\n",
    "    scaler = StandardScaler()\n",
    "    X_train_normalized = scaler.fit_transform(X_train)\n",
    "    X_test_normalized = scaler.transform(X_test)\n",
    "    \n",
    "    #posssibly make a function to take the nearest x (must create a hyperparameter and test different values of x) atoms and their corresponding x, y, z coordinates from the .CIF files for each of the atoms that were removed from their structure\n",
    "    \n",
    "    return X_train_normalized, X_test_normalized, y_train, y_test"
   ],
   "metadata": {
    "collapsed": false
   },
   "id": "4ad6c81f5ebb3d70"
  },
  {
   "cell_type": "code",
   "outputs": [],
   "source": [
    "def build_model(num_features):\n",
    "    \"\"\"\n",
    "    Build the model architecture (and compile it).\n",
    "    input: number of features\n",
    "    output: Keras model object.\n",
    "    \"\"\"\n",
    "    classifier = keras.Sequential()\n",
    "    classifier.add(layers.Dense(64, input_dim=num_features, activation='relu'))\n",
    "    classifier.add(layers.Dropout(0.3))\n",
    "    classifier.add(layers.Dense(32, activation='relu'))\n",
    "    classifier.add(layers.Dropout(0.3))\n",
    "    classifier.add(layers.Dense(8, activation='softmax'))\n",
    "    classifier.compile(optimizer='adam', loss='sparse_categorical_crossentropy', metrics=['accuracy'])\n",
    "    return classifier\n",
    "    \n",
    "    #Step : #hyperparameter tuning (random/grid search)"
   ],
   "metadata": {
    "collapsed": false
   },
   "id": "ffd0e9ad0984579"
  },
  {
   "cell_type": "code",
   "outputs": [],
   "source": [
    "def plot_history(history, param):\n",
    "    \"\"\"\n",
    "    Shows how the model performs (in terms of accuracy and loss) over several epochs.\n",
    "    \"\"\"\n",
    "    if param == 'acc':\n",
    "        plt.plot(history.history['accuracy'])\n",
    "        plt.plot(history.history['val_accuracy'])\n",
    "        plt.title('model accuracy')\n",
    "        plt.ylabel('accuracy')\n",
    "        plt.xlabel('epoch')\n",
    "        plt.legend(['train', 'val'], loc='upper left')\n",
    "        plt.show()\n",
    "    elif param == 'loss':\n",
    "        plt.plot(history.history['loss'])\n",
    "        plt.plot(history.history['val_loss'])\n",
    "        plt.title('model loss')\n",
    "        plt.ylabel('loss')\n",
    "        plt.xlabel('epoch')\n",
    "        plt.legend(['train', 'val'], loc='upper right')\n",
    "        plt.show()"
   ],
   "metadata": {
    "collapsed": false
   },
   "id": "432077441c46de82"
  },
  {
   "cell_type": "code",
   "outputs": [],
   "source": [
    "#Step : #hyperparameter tuning (random/grid search)\n",
    "#Step : load in test data to test model and print out performance mertrics\n",
    "\n",
    "#possibly standardize the energy loss values, and then turn them back to normal values when wanting to predict the associated energy value\n",
    "\n",
    "#posssibly make a function to take the nearest x (must create a hyperparameter and test different values of x) atoms and their corresponding x, y, z coordinates from the .CIF files for each of the atoms that were removed from their structure\n",
    "#: test model again and print out new performance metrics "
   ],
   "metadata": {
    "collapsed": false
   },
   "id": "58c054bb306a78fe"
  },
  {
   "cell_type": "code",
   "outputs": [],
   "source": [
    "### The main function below drives the entire code. It prepares the dataset, builds a model with appropriate parameters, evaluates the model and predicts on the test data. Finally, plots some performance metrics.\n",
    "def main():\n",
    "    raw_df = final_data_df\n",
    "    cols = raw_df.columns.tolist()\n",
    "    features, label = cols[:-1], cols[-1]\n",
    "    X_train, X_test, y_train, y_test = prep_data(raw_df)\n",
    "\n",
    "    # Build a DL model\n",
    "    num_features = len(features)\n",
    "    model = build_model(num_features)\n",
    "\n",
    "    print(\"Summary report of Keras classifier:\")\n",
    "    model.summary()\n",
    "\n",
    "    num_epochs = 100\n",
    "    batch_size = 1024\n",
    "    earlystop_callback = EarlyStopping(monitor='val_accuracy', min_delta=0.0001, patience=3)\n",
    "    history = model.fit(X_train,\n",
    "                        y_train,\n",
    "                        epochs=num_epochs,\n",
    "                        batch_size=batch_size,\n",
    "                        callbacks=[earlystop_callback],\n",
    "                        validation_split=0.1,\n",
    "                        verbose=1)\n",
    "\n",
    "    plot_history(history, 'acc')\n",
    "    plot_history(history, 'loss')\n",
    "\n",
    "    score = model.evaluate(X_test, y_test, verbose=0)\n",
    "    print(f'Test loss: {score[0]}')\n",
    "    print(f'Test accuracy: {score[1]}')\n",
    "\n",
    "    y_pred = model.predict(X_test)\n",
    "   # Assuming y_true contains the actual values and y_pred contains the model's predictions\n",
    "\n",
    "    mae = mean_absolute_error(y_test, y_pred)\n",
    "    mse = mean_squared_error(y_test, y_pred)\n",
    "    rmse = np.sqrt(mse)\n",
    "    r2 = r2_score(y_test, y_pred)\n",
    "\n",
    "    print(f\"Mean Absolute Error (MAE): {mae}\")\n",
    "    print(f\"Mean Squared Error (MSE): {mse}\")\n",
    "    print(f\"Root Mean Squared Error (RMSE): {rmse}\")\n",
    "    print(f\"R-squared (R²): {r2}\")\n",
    "   "
   ],
   "metadata": {
    "collapsed": false
   },
   "id": "8bddb0cbd198e68c"
  },
  {
   "cell_type": "code",
   "outputs": [],
   "source": [
    "if __name__ == '__main__':\n",
    "    main()"
   ],
   "metadata": {
    "collapsed": false
   },
   "id": "4d80519f58804727"
  }
 ],
 "metadata": {
  "kernelspec": {
   "display_name": "Python 3",
   "language": "python",
   "name": "python3"
  },
  "language_info": {
   "codemirror_mode": {
    "name": "ipython",
    "version": 2
   },
   "file_extension": ".py",
   "mimetype": "text/x-python",
   "name": "python",
   "nbconvert_exporter": "python",
   "pygments_lexer": "ipython2",
   "version": "2.7.6"
  }
 },
 "nbformat": 4,
 "nbformat_minor": 5
}
