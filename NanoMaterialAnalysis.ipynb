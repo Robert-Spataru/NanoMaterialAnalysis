{
 "cells": [
  {
   "cell_type": "code",
   "execution_count": 162,
   "id": "initial_id",
   "metadata": {
    "collapsed": true,
    "ExecuteTime": {
     "end_time": "2024-02-29T06:13:57.203594Z",
     "start_time": "2024-02-29T06:13:57.197681Z"
    }
   },
   "outputs": [
    {
     "data": {
      "text/plain": "'\\n#Task: Predict the change in energy of the structure given the host structure (xyz data (which contains the x,y,z coordinates of each atom in the structure) + element list data (which contains the elements within the structure and match up in order with their corresponding coordinates in space as the xyz data coordinates)) and the index of the molecule that is removed (use hot one encoding to represent the molecule that was removed: Mo: Molybdenum, S: Sulfur, Se: Selenium, Te: Tellurium, W: Tungsten)\\n\\n#Machine Learning Task Type: Deep Learning Neural Network that learns a relationship between the associated change in the structure of the host and the corresponding change in energy of the structure\\n'"
     },
     "execution_count": 162,
     "metadata": {},
     "output_type": "execute_result"
    }
   ],
   "source": [
    "\"\"\"\n",
    "#Task: Predict the change in energy of the structure given the host structure (xyz data (which contains the x,y,z coordinates of each atom in the structure) + element list data (which contains the elements within the structure and match up in order with their corresponding coordinates in space as the xyz data coordinates)) and the index of the molecule that is removed (use hot one encoding to represent the molecule that was removed: Mo: Molybdenum, S: Sulfur, Se: Selenium, Te: Tellurium, W: Tungsten)\n",
    "\n",
    "#Machine Learning Task Type: Deep Learning Neural Network that learns a relationship between the associated change in the structure of the host and the corresponding change in energy of the structure\n",
    "\"\"\""
   ]
  },
  {
   "cell_type": "code",
   "outputs": [],
   "source": [
    "#Step 1: \n",
    "import pandas as pd\n",
    "import os\n",
    "folder_path = '/Users/robertspataru/Desktop/project_newData'\n",
    "output_file = 'vac_origHost_compiled.csv'\n",
    "csv_files = ['vac_Mo_origHost.csv', 'vac_S_origHost.csv', 'vac_Se_origHost.csv', 'vac_Te_origHost.csv', 'vac_W_origHost.csv']\n",
    "column_names = ['Structure_Combination', 'Atom_Removed_Location', 'Energy_Value_Change']  \n",
    "\n",
    "possible_elements_removed = ['Mo', 'S', 'Se', 'Te', 'W']\n",
    "dfs_vac_origHost = []\n",
    "for file_name in csv_files:\n",
    "    full_file_path = os.path.join(folder_path, file_name)\n",
    "    df = pd.read_csv(full_file_path, header = None)\n",
    "    df.columns = column_names\n",
    "    dfs_vac_origHost.append(df)\n",
    "df_vac_origHost = pd.concat(dfs_vac_origHost, ignore_index = True)\n",
    "#print(df_vac_origHost.head())\n"
   ],
   "metadata": {
    "collapsed": false,
    "ExecuteTime": {
     "end_time": "2024-02-29T06:13:57.258494Z",
     "start_time": "2024-02-29T06:13:57.206696Z"
    }
   },
   "id": "6c788ace9c1f1764",
   "execution_count": 163
  },
  {
   "cell_type": "code",
   "outputs": [],
   "source": [
    "#Step 2: \n",
    "\n",
    "input_file = '/Users/robertspataru/Desktop/project_newData/CIFhost_generic_compiled.txt'\n",
    "output_file = 'CIFhost_generic_compiled.csv'\n",
    "\n",
    "initial_column_names = ['Atom_Name', 'X-Coordinate', 'Y-Coordinate', 'Z-Coordinate']\n",
    "orig_df_CIFs_sorted = []\n",
    "\n",
    "orig_df_CIFs_sorted = pd.read_csv(input_file, sep = '\\s+', header = None)\n",
    "orig_df_CIFs_sorted.columns = initial_column_names\n",
    "\n",
    "#(orig_df_CIFs_sorted.head())"
   ],
   "metadata": {
    "collapsed": false,
    "ExecuteTime": {
     "end_time": "2024-02-29T06:13:57.259300Z",
     "start_time": "2024-02-29T06:13:57.229474Z"
    }
   },
   "id": "6e9aee74eb956632",
   "execution_count": 164
  },
  {
   "cell_type": "code",
   "outputs": [],
   "source": [
    "#Step #3:\n",
    "\n",
    "middle_column_names = ['Atom_Name','Structure_Combination', 'Atom_Location', 'X-Coordinate', 'Y-Coordinate', 'Z-Coordinate']\n",
    "mid_df_CIFs_sorted = orig_df_CIFs_sorted\n",
    "\n",
    "Atom_Location_List = []\n",
    "Structure_Combination_List = []\n",
    "\n",
    "x = 1\n",
    "y = 1\n",
    "num_rows = len(orig_df_CIFs_sorted.index)\n",
    "\n",
    "for i in range(num_rows):\n",
    "    # Append the current atom location, resetting to 1 after every 48 atoms\n",
    "    Atom_Location_List.append((i % 48) + 1)\n",
    "    \n",
    "    # Construct the structure combination string and append it to the list\n",
    "    Structure_Combination_List.append(f\"{x}_{y}\")\n",
    "    \n",
    "    # Check if we've reached the end of a structure combination (every 48 atoms)\n",
    "    if (i + 1) % 48 == 0:\n",
    "        y += 1  # Increment y after every 48 atoms\n",
    "        if y > 72:\n",
    "            y = 1  # Reset y back to 1 after reaching 72\n",
    "            x += 1  # Increment x when y resets\n",
    "\n",
    "\n",
    "mid_df_CIFs_sorted.insert(loc = 1, column = middle_column_names[1], value = Structure_Combination_List)\n",
    "mid_df_CIFs_sorted.insert(loc = 2, column = middle_column_names[2], value = Atom_Location_List)\n",
    "\n",
    "#print(mid_df_CIFs_sorted.head())\n"
   ],
   "metadata": {
    "collapsed": false,
    "ExecuteTime": {
     "end_time": "2024-02-29T06:13:57.267103Z",
     "start_time": "2024-02-29T06:13:57.260524Z"
    }
   },
   "id": "78c4513c2b3d53c",
   "execution_count": 165
  },
  {
   "cell_type": "code",
   "outputs": [],
   "source": [
    "#Step #4: \n",
    "\n",
    "mid_2_column_names = ['Atom_Name_Vector', 'Structure_Combination', 'Atom_Location', 'Coordinate_Vector']\n",
    "mid_2_df_CIFs_sorted = mid_df_CIFs_sorted\n",
    "\n",
    "Atom_Name_Column = mid_2_df_CIFs_sorted['Atom_Name']\n",
    "Atom_Name_Vector_List = []\n",
    "for atom in Atom_Name_Column:\n",
    "    atom_name_vector = [0] * len(possible_elements_removed)\n",
    "    index_to_encode = possible_elements_removed.index(atom)\n",
    "    atom_name_vector[index_to_encode] = 1\n",
    "    Atom_Name_Vector_List.append(atom_name_vector)\n",
    "\n",
    "Coordinate_Vector_List = []\n",
    "for i in range(num_rows):\n",
    "    coordinate_vector = [mid_2_df_CIFs_sorted.loc[i, 'X-Coordinate'], mid_2_df_CIFs_sorted.loc[i, 'Y-Coordinate'], mid_2_df_CIFs_sorted.loc[i, 'Z-Coordinate']]\n",
    "    Coordinate_Vector_List.append(coordinate_vector)\n",
    "\n",
    "mid_2_df_CIFs_sorted['Atom_Name'] = Atom_Name_Vector_List\n",
    "mid_2_df_CIFs_sorted.rename(columns = {'Atom_Name': 'Atom_Name_Vector'}, inplace = True)\n",
    "\n",
    "mid_2_df_CIFs_sorted.drop(['X-Coordinate', 'Y-Coordinate', 'Z-Coordinate'], axis = 1, inplace = True)\n",
    "mid_2_df_CIFs_sorted['Coordinate_Vector'] = Coordinate_Vector_List\n",
    "\n",
    "#print(mid_2_df_CIFs_sorted.head())\n",
    "\n",
    "\n"
   ],
   "metadata": {
    "collapsed": false,
    "ExecuteTime": {
     "end_time": "2024-02-29T06:13:57.446076Z",
     "start_time": "2024-02-29T06:13:57.281390Z"
    }
   },
   "id": "e4c1993633aeddc6",
   "execution_count": 166
  },
  {
   "cell_type": "code",
   "outputs": [
    {
     "name": "stdout",
     "output_type": "stream",
     "text": [
      "                               Atom_Name_Vector_List Structure_Combination  \\\n",
      "0  [[1, 0, 0, 0, 0], [1, 0, 0, 0, 0], [1, 0, 0, 0...                   1_1   \n",
      "1  [[1, 0, 0, 0, 0], [1, 0, 0, 0, 0], [1, 0, 0, 0...                   1_2   \n",
      "2  [[0, 0, 0, 0, 1], [0, 0, 0, 0, 1], [1, 0, 0, 0...                   1_3   \n",
      "3  [[1, 0, 0, 0, 0], [1, 0, 0, 0, 0], [1, 0, 0, 0...                   1_4   \n",
      "4  [[1, 0, 0, 0, 0], [0, 0, 0, 0, 1], [1, 0, 0, 0...                   1_5   \n",
      "\n",
      "                           Atom_Location_Vector_List  \\\n",
      "0  [1, 2, 3, 4, 5, 6, 7, 8, 9, 10, 11, 12, 13, 14...   \n",
      "1  [1, 2, 3, 4, 5, 6, 7, 8, 9, 10, 11, 12, 13, 14...   \n",
      "2  [1, 2, 3, 4, 5, 6, 7, 8, 9, 10, 11, 12, 13, 14...   \n",
      "3  [1, 2, 3, 4, 5, 6, 7, 8, 9, 10, 11, 12, 13, 14...   \n",
      "4  [1, 2, 3, 4, 5, 6, 7, 8, 9, 10, 11, 12, 13, 14...   \n",
      "\n",
      "                              Coordinate_Vector_List  \n",
      "0  [[-0.0, 0.00408, 0.49999], [0.125, 0.25408, 0....  \n",
      "1  [[-0.0, 0.00408, 0.49999], [0.125, 0.25408, 0....  \n",
      "2  [[-0.0, 0.00408, 0.49999], [0.125, 0.25408, 0....  \n",
      "3  [[-0.0, 0.00408, 0.49999], [0.125, 0.25408, 0....  \n",
      "4  [[-0.0, 0.00408, 0.49999], [0.125, 0.25408, 0....  \n"
     ]
    }
   ],
   "source": [
    "final_column_names = ['Atom_Name_Vector_List','Structure_Combination', 'Atom_Location_Vector_List','Coordinate_Vector_List']\n",
    "final_df_CIFs_sorted = pd.DataFrame()\n",
    "\n",
    "atom_name_vector_list = []\n",
    "temp_atom_name_vector_list = []\n",
    "\n",
    "structure_combination_list = []\n",
    "\n",
    "atom_location_vector_list = []\n",
    "temp_atom_location_vector_list = []\n",
    "\n",
    "coordinate_vector_list = []\n",
    "temp_coordinate_vector_list = []\n",
    "\n",
    "\n",
    "\n",
    "for row_index in range(1, num_rows + 1):\n",
    "        temp_atom_name_vector_list.append(mid_2_df_CIFs_sorted.iloc[row_index - 1]['Atom_Name_Vector'])\n",
    "        \n",
    "        temp_atom_location_vector_list.append(mid_2_df_CIFs_sorted.iloc[row_index - 1]['Atom_Location'])\n",
    "        \n",
    "        temp_coordinate_vector_list.append(mid_2_df_CIFs_sorted.iloc[row_index - 1]['Coordinate_Vector'])\n",
    "        \n",
    "        if row_index % 48 == 0:\n",
    "            atom_name_vector_list.append(temp_atom_name_vector_list)\n",
    "            temp_atom_name_vector_list = []\n",
    "            \n",
    "            structure_combination_list.append(mid_2_df_CIFs_sorted.iloc[row_index - 1]['Structure_Combination'])\n",
    "        \n",
    "            atom_location_vector_list.append(temp_atom_location_vector_list)\n",
    "            temp_atom_location_vector_list = []\n",
    "        \n",
    "            coordinate_vector_list.append(temp_coordinate_vector_list)\n",
    "            temp_coordinate_vector_list = []\n",
    "\n",
    "final_df_CIFs_sorted['Atom_Name_Vector_List'] = atom_name_vector_list\n",
    "\n",
    "final_df_CIFs_sorted['Structure_Combination'] = structure_combination_list\n",
    "\n",
    "final_df_CIFs_sorted['Atom_Location_Vector_List'] = atom_location_vector_list\n",
    "\n",
    "\n",
    "final_df_CIFs_sorted['Coordinate_Vector_List'] = coordinate_vector_list\n",
    "\n",
    "#print(final_df_CIFs_sorted.head())\n",
    "\n",
    "#print(atom_name_vector_list[0])\n",
    "#print(structure_combination_list[0])\n",
    "#print(atom_location_vector_list[0])\n",
    "#print(coordinate_vector_list[0])\n"
   ],
   "metadata": {
    "collapsed": false,
    "ExecuteTime": {
     "end_time": "2024-02-29T06:13:58.405562Z",
     "start_time": "2024-02-29T06:13:57.502450Z"
    }
   },
   "id": "33cfaa17af9cbeb9",
   "execution_count": 167
  },
  {
   "cell_type": "code",
   "outputs": [],
   "source": [
    "#Combine both of the pandas dataframes into one large .csv file by going through each sentence of the combined .csv file and then matching the specific structure combination with the corresponding 48 atoms and their coordinate space. Then, delete the duplicate column that contains the structure combination in the form x_y.\n",
    "final_compiled_dataframe = pd.merge(df_vac_origHost, final_df_CIFs_sorted, on = 'Structure_Combination', how = 'left')\n",
    "final_compiled_dataframe.to_csv('NanoMaterialAnalysis.csv', header = True, index = False)\n",
    "#current_working_directory = os.getcwd()\n",
    "#print(current_working_directory)\n",
    "#print(final_compiled_dataframe.head())\n",
    "\n"
   ],
   "metadata": {
    "collapsed": false,
    "ExecuteTime": {
     "end_time": "2024-02-29T06:35:43.561850Z",
     "start_time": "2024-02-29T06:35:43.193506Z"
    }
   },
   "id": "878b5843c63a4d7a",
   "execution_count": 177
  },
  {
   "cell_type": "code",
   "outputs": [],
   "source": [
    "from sklearn.preprocessing import StandardScaler\n",
    "#Step : \n",
    "#create a python function to generate a machine learning model \n",
    "#\n"
   ],
   "metadata": {
    "collapsed": false,
    "ExecuteTime": {
     "end_time": "2024-02-29T06:13:58.411451Z",
     "start_time": "2024-02-29T06:13:58.408123Z"
    }
   },
   "id": "7e5aa83c713e1a45",
   "execution_count": 169
  },
  {
   "cell_type": "code",
   "outputs": [],
   "source": [
    "#Step \n",
    "import numpy as np\n",
    "import tensorflow as tf\n",
    "from tensorflow.keras import layers, models, optimizers"
   ],
   "metadata": {
    "collapsed": false,
    "ExecuteTime": {
     "end_time": "2024-02-29T06:13:58.411743Z",
     "start_time": "2024-02-29T06:13:58.409956Z"
    }
   },
   "id": "274f3a8abb8e8db6",
   "execution_count": 170
  },
  {
   "cell_type": "code",
   "outputs": [],
   "source": [
    "#Step : learn the correct hyperparameters"
   ],
   "metadata": {
    "collapsed": false,
    "ExecuteTime": {
     "end_time": "2024-02-29T06:13:58.414680Z",
     "start_time": "2024-02-29T06:13:58.411624Z"
    }
   },
   "id": "11ee9310d5020bba",
   "execution_count": 171
  },
  {
   "cell_type": "code",
   "outputs": [],
   "source": [
    "#Step : load in test data to test model and print out performance mertrics"
   ],
   "metadata": {
    "collapsed": false,
    "ExecuteTime": {
     "end_time": "2024-02-29T06:13:58.417349Z",
     "start_time": "2024-02-29T06:13:58.414501Z"
    }
   },
   "id": "4cd332a1625e2d9",
   "execution_count": 172
  },
  {
   "cell_type": "code",
   "outputs": [],
   "source": [
    "#hyperparameter tuning (random/grid search)\n",
    "\n",
    "#standarize the energy loss values, and then turn them back to normal values when wanting to predic the associated energy value\n",
    "\n",
    "#posssibly make a function to take the nearest x (must create a hyperparameter and test different values of x) atoms and their corresponding x, y, z coordinates from the .CIF files for each of the atoms that were removed from their structure"
   ],
   "metadata": {
    "collapsed": false,
    "ExecuteTime": {
     "end_time": "2024-02-29T06:13:58.419989Z",
     "start_time": "2024-02-29T06:13:58.416649Z"
    }
   },
   "id": "4ed7028fe1045f9e",
   "execution_count": 173
  },
  {
   "cell_type": "code",
   "outputs": [],
   "source": [
    "#: test model again and print out new performance metrics "
   ],
   "metadata": {
    "collapsed": false,
    "ExecuteTime": {
     "end_time": "2024-02-29T06:13:58.420218Z",
     "start_time": "2024-02-29T06:13:58.418327Z"
    }
   },
   "id": "b4927c8386234407",
   "execution_count": 174
  }
 ],
 "metadata": {
  "kernelspec": {
   "display_name": "Python 3",
   "language": "python",
   "name": "python3"
  },
  "language_info": {
   "codemirror_mode": {
    "name": "ipython",
    "version": 2
   },
   "file_extension": ".py",
   "mimetype": "text/x-python",
   "name": "python",
   "nbconvert_exporter": "python",
   "pygments_lexer": "ipython2",
   "version": "2.7.6"
  }
 },
 "nbformat": 4,
 "nbformat_minor": 5
}
