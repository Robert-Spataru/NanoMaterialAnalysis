{
 "cells": [
  {
   "cell_type": "code",
   "execution_count": 2,
   "id": "initial_id",
   "metadata": {
    "collapsed": true,
    "ExecuteTime": {
     "end_time": "2024-03-07T06:22:29.757913Z",
     "start_time": "2024-03-07T06:22:24.139453Z"
    }
   },
   "outputs": [],
   "source": [
    "#import python/ml packages\n",
    "import pandas as pd\n",
    "import numpy as np\n",
    "import os\n",
    "\n",
    "from sklearn.preprocessing import StandardScaler\n",
    "from sklearn.model_selection import train_test_split\n",
    "import tensorflow as tf\n",
    "from tensorflow import keras\n",
    "from tensorflow.keras import layers, models, optimizers\n",
    "from tensorflow.keras.layers import Input, Dense, Flatten, Concatenate, LSTM\n",
    "from tensorflow.keras.models import Model\n",
    "from keras_tuner import HyperModel\n",
    "from keras_tuner.tuners import BayesianOptimization\n",
    "from sklearn.preprocessing import OneHotEncoder\n",
    "from tensorflow.keras.layers import Dense\n",
    "from tensorflow.keras.optimizers import Adam\n",
    "import matplotlib.pyplot as plt\n",
    "from tensorflow.keras.callbacks import EarlyStopping\n",
    "from sklearn.metrics import mean_absolute_error, mean_squared_error, r2_score"
   ]
  },
  {
   "cell_type": "code",
   "outputs": [
    {
     "data": {
      "text/plain": "  Structure_Combination  Atom_Removed_Location  \\\n0                   1_1                      7   \n1                   1_1                      3   \n2                   1_1                      1   \n3                  1_11                      2   \n4                  1_11                     13   \n\n                               Atom_Name_Vector_List  \\\n0  [[1, 0, 0, 0, 0], [1, 0, 0, 0, 0], [1, 0, 0, 0...   \n1  [[1, 0, 0, 0, 0], [1, 0, 0, 0, 0], [1, 0, 0, 0...   \n2  [[1, 0, 0, 0, 0], [1, 0, 0, 0, 0], [1, 0, 0, 0...   \n3  [[1, 0, 0, 0, 0], [1, 0, 0, 0, 0], [1, 0, 0, 0...   \n4  [[1, 0, 0, 0, 0], [1, 0, 0, 0, 0], [1, 0, 0, 0...   \n\n                           Atom_Location_Vector_List  \\\n0  [1, 2, 3, 4, 5, 6, 7, 8, 9, 10, 11, 12, 13, 14...   \n1  [1, 2, 3, 4, 5, 6, 7, 8, 9, 10, 11, 12, 13, 14...   \n2  [1, 2, 3, 4, 5, 6, 7, 8, 9, 10, 11, 12, 13, 14...   \n3  [1, 2, 3, 4, 5, 6, 7, 8, 9, 10, 11, 12, 13, 14...   \n4  [1, 2, 3, 4, 5, 6, 7, 8, 9, 10, 11, 12, 13, 14...   \n\n                              Coordinate_Vector_List  Energy_Value_Change  \n0  [[-0.0, 0.00408, 0.49999], [0.125, 0.25408, 0....              -6.8879  \n1  [[-0.0, 0.00408, 0.49999], [0.125, 0.25408, 0....              -7.0395  \n2  [[-0.0, 0.00408, 0.49999], [0.125, 0.25408, 0....              -6.3746  \n3  [[-0.0, 0.00408, 0.49999], [0.125, 0.25408, 0....              -5.4809  \n4  [[-0.0, 0.00408, 0.49999], [0.125, 0.25408, 0....              -4.8951  ",
      "text/html": "<div>\n<style scoped>\n    .dataframe tbody tr th:only-of-type {\n        vertical-align: middle;\n    }\n\n    .dataframe tbody tr th {\n        vertical-align: top;\n    }\n\n    .dataframe thead th {\n        text-align: right;\n    }\n</style>\n<table border=\"1\" class=\"dataframe\">\n  <thead>\n    <tr style=\"text-align: right;\">\n      <th></th>\n      <th>Structure_Combination</th>\n      <th>Atom_Removed_Location</th>\n      <th>Atom_Name_Vector_List</th>\n      <th>Atom_Location_Vector_List</th>\n      <th>Coordinate_Vector_List</th>\n      <th>Energy_Value_Change</th>\n    </tr>\n  </thead>\n  <tbody>\n    <tr>\n      <th>0</th>\n      <td>1_1</td>\n      <td>7</td>\n      <td>[[1, 0, 0, 0, 0], [1, 0, 0, 0, 0], [1, 0, 0, 0...</td>\n      <td>[1, 2, 3, 4, 5, 6, 7, 8, 9, 10, 11, 12, 13, 14...</td>\n      <td>[[-0.0, 0.00408, 0.49999], [0.125, 0.25408, 0....</td>\n      <td>-6.8879</td>\n    </tr>\n    <tr>\n      <th>1</th>\n      <td>1_1</td>\n      <td>3</td>\n      <td>[[1, 0, 0, 0, 0], [1, 0, 0, 0, 0], [1, 0, 0, 0...</td>\n      <td>[1, 2, 3, 4, 5, 6, 7, 8, 9, 10, 11, 12, 13, 14...</td>\n      <td>[[-0.0, 0.00408, 0.49999], [0.125, 0.25408, 0....</td>\n      <td>-7.0395</td>\n    </tr>\n    <tr>\n      <th>2</th>\n      <td>1_1</td>\n      <td>1</td>\n      <td>[[1, 0, 0, 0, 0], [1, 0, 0, 0, 0], [1, 0, 0, 0...</td>\n      <td>[1, 2, 3, 4, 5, 6, 7, 8, 9, 10, 11, 12, 13, 14...</td>\n      <td>[[-0.0, 0.00408, 0.49999], [0.125, 0.25408, 0....</td>\n      <td>-6.3746</td>\n    </tr>\n    <tr>\n      <th>3</th>\n      <td>1_11</td>\n      <td>2</td>\n      <td>[[1, 0, 0, 0, 0], [1, 0, 0, 0, 0], [1, 0, 0, 0...</td>\n      <td>[1, 2, 3, 4, 5, 6, 7, 8, 9, 10, 11, 12, 13, 14...</td>\n      <td>[[-0.0, 0.00408, 0.49999], [0.125, 0.25408, 0....</td>\n      <td>-5.4809</td>\n    </tr>\n    <tr>\n      <th>4</th>\n      <td>1_11</td>\n      <td>13</td>\n      <td>[[1, 0, 0, 0, 0], [1, 0, 0, 0, 0], [1, 0, 0, 0...</td>\n      <td>[1, 2, 3, 4, 5, 6, 7, 8, 9, 10, 11, 12, 13, 14...</td>\n      <td>[[-0.0, 0.00408, 0.49999], [0.125, 0.25408, 0....</td>\n      <td>-4.8951</td>\n    </tr>\n  </tbody>\n</table>\n</div>"
     },
     "execution_count": 7,
     "metadata": {},
     "output_type": "execute_result"
    }
   ],
   "source": [
    "#taking a look at the data\n",
    "final_data_df = pd.read_csv('final_data.csv')\n",
    "final_data_df.head()"
   ],
   "metadata": {
    "collapsed": false,
    "ExecuteTime": {
     "end_time": "2024-03-07T06:27:09.570962Z",
     "start_time": "2024-03-07T06:27:09.479216Z"
    }
   },
   "id": "98a0041201033d6f",
   "execution_count": 7
  },
  {
   "cell_type": "code",
   "outputs": [
    {
     "data": {
      "text/plain": "       Atom_Removed_Location  Energy_Value_Change\ncount            3726.000000          3726.000000\nmean               22.039721            -4.256561\nstd                14.238092             1.432308\nmin                 1.000000            -7.643400\n25%                10.000000            -5.540275\n50%                20.000000            -3.589850\n75%                34.000000            -3.281200\nmax                48.000000            -2.112200",
      "text/html": "<div>\n<style scoped>\n    .dataframe tbody tr th:only-of-type {\n        vertical-align: middle;\n    }\n\n    .dataframe tbody tr th {\n        vertical-align: top;\n    }\n\n    .dataframe thead th {\n        text-align: right;\n    }\n</style>\n<table border=\"1\" class=\"dataframe\">\n  <thead>\n    <tr style=\"text-align: right;\">\n      <th></th>\n      <th>Atom_Removed_Location</th>\n      <th>Energy_Value_Change</th>\n    </tr>\n  </thead>\n  <tbody>\n    <tr>\n      <th>count</th>\n      <td>3726.000000</td>\n      <td>3726.000000</td>\n    </tr>\n    <tr>\n      <th>mean</th>\n      <td>22.039721</td>\n      <td>-4.256561</td>\n    </tr>\n    <tr>\n      <th>std</th>\n      <td>14.238092</td>\n      <td>1.432308</td>\n    </tr>\n    <tr>\n      <th>min</th>\n      <td>1.000000</td>\n      <td>-7.643400</td>\n    </tr>\n    <tr>\n      <th>25%</th>\n      <td>10.000000</td>\n      <td>-5.540275</td>\n    </tr>\n    <tr>\n      <th>50%</th>\n      <td>20.000000</td>\n      <td>-3.589850</td>\n    </tr>\n    <tr>\n      <th>75%</th>\n      <td>34.000000</td>\n      <td>-3.281200</td>\n    </tr>\n    <tr>\n      <th>max</th>\n      <td>48.000000</td>\n      <td>-2.112200</td>\n    </tr>\n  </tbody>\n</table>\n</div>"
     },
     "execution_count": 8,
     "metadata": {},
     "output_type": "execute_result"
    }
   ],
   "source": [
    "final_data_df.describe()"
   ],
   "metadata": {
    "collapsed": false,
    "ExecuteTime": {
     "end_time": "2024-03-07T06:27:11.806564Z",
     "start_time": "2024-03-07T06:27:11.789171Z"
    }
   },
   "id": "22038c400cafb8c",
   "execution_count": 8
  },
  {
   "cell_type": "code",
   "outputs": [],
   "source": [
    "#fine-tuning data to make it optimal for deep learning neural network\n",
    "#Implement more sophisticated preprocessing or feature engineering\n",
    "\n"
   ],
   "metadata": {
    "collapsed": false
   },
   "id": "1be4e5df519805e4"
  },
  {
   "cell_type": "code",
   "outputs": [],
   "source": [
    "#Define the model-building function\n",
    "class EnergyPredictionModel(HyperModel):\n",
    "    def __init__(self, input_shapes):\n",
    "        self.input_structured_shape = input_shapes['structured']\n",
    "        self.input_atom_name_shape = input_shapes['atom_name']\n",
    "        self.input_atom_location_shape = input_shapes['atom_location']\n",
    "        self.input_coordinate_shape = input_shapes['coordinate']\n",
    "    \n",
    "    def build(self, hp):\n",
    "        input_structured = Input(shape=self.input_structured_shape, name='Structured_Input')\n",
    "        input_atom_name = Input(shape=self.input_atom_name_shape, name='Atom_Name_Input')\n",
    "        input_atom_location = Input(shape=self.input_atom_location_shape, name='Atom_Location_Input')\n",
    "        input_coordinate = Input(shape=self.input_coordinate_shape, name='Coordinate_Input')\n",
    "\n",
    "        # Example of using hyperparameters to define the number of units in LSTM layers\n",
    "        atom_name_processed = LSTM(hp.Int('units_atom_name', min_value=16, max_value=64, step=16))(input_atom_name)\n",
    "        atom_location_processed = Dense(hp.Int('units_atom_location', min_value=16, max_value=64, step=16), activation='relu')(input_atom_location)\n",
    "        coordinate_processed = LSTM(hp.Int('units_coordinate', min_value=16, max_value=64, step=16))(input_coordinate)\n",
    "\n",
    "        combined = Concatenate()([input_structured, atom_name_processed, atom_location_processed, coordinate_processed])\n",
    "\n",
    "        # Further processing layers can also use hyperparameters\n",
    "        x = Dense(hp.Int('units_dense1', min_value=32, max_value=128, step=32), activation='relu')(combined)\n",
    "        x = Dense(hp.Int('units_dense2', min_value=16, max_value=64, step=16), activation='relu')(x)\n",
    "\n",
    "        output = Dense(1, name='Output')(x)\n",
    "        model = Model(inputs=[input_structured, input_atom_name, input_atom_location, input_coordinate], outputs=[output])\n",
    "\n",
    "        # Compile model\n",
    "        model.compile(optimizer=Adam(hp.Choice('learning_rate', [1e-2, 1e-3, 1e-4])), loss='mean_squared_error', metrics=['mae'])\n",
    "\n",
    "        return model"
   ],
   "metadata": {
    "collapsed": false
   },
   "id": "1305e9a7a9cb56dd"
  },
  {
   "cell_type": "code",
   "outputs": [],
   "source": [
    "#Hyperparameter tuning\n",
    "input_shapes = {\n",
    "    'structured': X_structured.shape[1:],\n",
    "    'atom_name': atom_name_vector_list_padded.shape[1:],\n",
    "    'atom_location': atom_location_vector_list_padded.shape[1:],\n",
    "    'coordinate': coordinate_vector_list_padded.shape[1:],\n",
    "}\n",
    "\n",
    "hypermodel = EnergyPredictionModel(input_shapes)\n",
    "\n",
    "tuner = BayesianOptimization(\n",
    "    hypermodel,\n",
    "    objective='val_mae',\n",
    "    max_trials=10,\n",
    "    executions_per_trial=2,\n",
    "    directory='hyperparam_tuning',\n",
    "    project_name='energy_prediction'\n",
    ")\n",
    "\n",
    "# Split data\n",
    "# Assuming you have a split_data function ready\n",
    "X_train, X_test, y_train, y_test = split_data(atom_name_vector_list_padded, atom_location_vector_list_padded, coordinate_vector_list_padded, X_structured, energy_value_change)\n",
    "\n",
    "# Prepare the data in a format that the model expects\n",
    "# Assuming X_train_structured, X_train_atom_name, etc., are prepared\n",
    "\n",
    "# Start the hyperparameter search\n",
    "tuner.search([X_train_structured, X_train_atom_name, X_train_atom_location, X_train_coordinate], y_train, \n",
    "             epochs=10, validation_split=0.2, callbacks=[earlystop_callback])\n",
    "\n",
    "# Get the best hyperparameters\n",
    "best_hps = tuner.get_best_hyperparameters(num_trials=1)[0]"
   ],
   "metadata": {
    "collapsed": false
   },
   "id": "a714c83026c29180"
  },
  {
   "cell_type": "code",
   "outputs": [],
   "source": [
    "#Rebuild and retrain model using the best hyperparameters and then evaluate it on the test-test (possibly use cross-validation)"
   ],
   "metadata": {
    "collapsed": false
   },
   "id": "9634a72ab4a3b75c"
  },
  {
   "cell_type": "code",
   "outputs": [],
   "source": [],
   "metadata": {
    "collapsed": false
   },
   "id": "c073332f9ab58e97"
  }
 ],
 "metadata": {
  "kernelspec": {
   "display_name": "Python 3",
   "language": "python",
   "name": "python3"
  },
  "language_info": {
   "codemirror_mode": {
    "name": "ipython",
    "version": 2
   },
   "file_extension": ".py",
   "mimetype": "text/x-python",
   "name": "python",
   "nbconvert_exporter": "python",
   "pygments_lexer": "ipython2",
   "version": "2.7.6"
  }
 },
 "nbformat": 4,
 "nbformat_minor": 5
}
