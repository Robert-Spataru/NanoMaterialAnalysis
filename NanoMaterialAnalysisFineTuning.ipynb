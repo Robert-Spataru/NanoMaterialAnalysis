{
 "cells": [
  {
   "cell_type": "code",
   "execution_count": 2,
   "id": "initial_id",
   "metadata": {
    "collapsed": true,
    "ExecuteTime": {
     "end_time": "2024-03-07T06:22:29.757913Z",
     "start_time": "2024-03-07T06:22:24.139453Z"
    }
   },
   "outputs": [],
   "source": [
    "import this\n",
    "\n",
    "# Standard libraries\n",
    "import numpy as np\n",
    "import os\n",
    "import pandas as pd\n",
    "import matplotlib.pyplot as plt\n",
    "\n",
    "# Scikit-learn for data handling and preprocessing\n",
    "from sklearn.datasets import make_classification\n",
    "from sklearn.model_selection import train_test_split\n",
    "from sklearn.preprocessing import OneHotEncoder, StandardScaler\n",
    "from sklearn.metrics import mean_absolute_error, mean_squared_error, r2_score\n",
    "\n",
    "# Keras & TensorFlow for model building and training\n",
    "from tensorflow import keras\n",
    "from tensorflow.keras import layers, models, optimizers\n",
    "from tensorflow.keras.models import Model, Sequential\n",
    "from tensorflow.keras.layers import Input, Dense, Flatten, Concatenate, LSTM\n",
    "from tensorflow.keras.optimizers import Adam\n",
    "from tensorflow.keras.callbacks import EarlyStopping\n",
    "from tensorflow.keras.preprocessing.sequence import pad_sequences\n",
    "\n",
    "# Hyperparameter optimization\n",
    "from hyperopt import hp, tpe, Trials, fmin\n",
    "from hyperopt.pyll.base import scope\n",
    "from keras_tuner import HyperModel\n",
    "from keras_tuner.tuners import BayesianOptimization\n"
   ]
  },
  {
   "cell_type": "code",
   "outputs": [
    {
     "data": {
      "text/plain": "  Structure_Combination  Atom_Removed_Location  \\\n0                   1_1                      7   \n1                   1_1                      3   \n2                   1_1                      1   \n3                  1_11                      2   \n4                  1_11                     13   \n\n                               Atom_Name_Vector_List  \\\n0  [[1, 0, 0, 0, 0], [1, 0, 0, 0, 0], [1, 0, 0, 0...   \n1  [[1, 0, 0, 0, 0], [1, 0, 0, 0, 0], [1, 0, 0, 0...   \n2  [[1, 0, 0, 0, 0], [1, 0, 0, 0, 0], [1, 0, 0, 0...   \n3  [[1, 0, 0, 0, 0], [1, 0, 0, 0, 0], [1, 0, 0, 0...   \n4  [[1, 0, 0, 0, 0], [1, 0, 0, 0, 0], [1, 0, 0, 0...   \n\n                           Atom_Location_Vector_List  \\\n0  [1, 2, 3, 4, 5, 6, 7, 8, 9, 10, 11, 12, 13, 14...   \n1  [1, 2, 3, 4, 5, 6, 7, 8, 9, 10, 11, 12, 13, 14...   \n2  [1, 2, 3, 4, 5, 6, 7, 8, 9, 10, 11, 12, 13, 14...   \n3  [1, 2, 3, 4, 5, 6, 7, 8, 9, 10, 11, 12, 13, 14...   \n4  [1, 2, 3, 4, 5, 6, 7, 8, 9, 10, 11, 12, 13, 14...   \n\n                              Coordinate_Vector_List  Energy_Value_Change  \n0  [[-0.0, 0.00408, 0.49999], [0.125, 0.25408, 0....              -6.8879  \n1  [[-0.0, 0.00408, 0.49999], [0.125, 0.25408, 0....              -7.0395  \n2  [[-0.0, 0.00408, 0.49999], [0.125, 0.25408, 0....              -6.3746  \n3  [[-0.0, 0.00408, 0.49999], [0.125, 0.25408, 0....              -5.4809  \n4  [[-0.0, 0.00408, 0.49999], [0.125, 0.25408, 0....              -4.8951  ",
      "text/html": "<div>\n<style scoped>\n    .dataframe tbody tr th:only-of-type {\n        vertical-align: middle;\n    }\n\n    .dataframe tbody tr th {\n        vertical-align: top;\n    }\n\n    .dataframe thead th {\n        text-align: right;\n    }\n</style>\n<table border=\"1\" class=\"dataframe\">\n  <thead>\n    <tr style=\"text-align: right;\">\n      <th></th>\n      <th>Structure_Combination</th>\n      <th>Atom_Removed_Location</th>\n      <th>Atom_Name_Vector_List</th>\n      <th>Atom_Location_Vector_List</th>\n      <th>Coordinate_Vector_List</th>\n      <th>Energy_Value_Change</th>\n    </tr>\n  </thead>\n  <tbody>\n    <tr>\n      <th>0</th>\n      <td>1_1</td>\n      <td>7</td>\n      <td>[[1, 0, 0, 0, 0], [1, 0, 0, 0, 0], [1, 0, 0, 0...</td>\n      <td>[1, 2, 3, 4, 5, 6, 7, 8, 9, 10, 11, 12, 13, 14...</td>\n      <td>[[-0.0, 0.00408, 0.49999], [0.125, 0.25408, 0....</td>\n      <td>-6.8879</td>\n    </tr>\n    <tr>\n      <th>1</th>\n      <td>1_1</td>\n      <td>3</td>\n      <td>[[1, 0, 0, 0, 0], [1, 0, 0, 0, 0], [1, 0, 0, 0...</td>\n      <td>[1, 2, 3, 4, 5, 6, 7, 8, 9, 10, 11, 12, 13, 14...</td>\n      <td>[[-0.0, 0.00408, 0.49999], [0.125, 0.25408, 0....</td>\n      <td>-7.0395</td>\n    </tr>\n    <tr>\n      <th>2</th>\n      <td>1_1</td>\n      <td>1</td>\n      <td>[[1, 0, 0, 0, 0], [1, 0, 0, 0, 0], [1, 0, 0, 0...</td>\n      <td>[1, 2, 3, 4, 5, 6, 7, 8, 9, 10, 11, 12, 13, 14...</td>\n      <td>[[-0.0, 0.00408, 0.49999], [0.125, 0.25408, 0....</td>\n      <td>-6.3746</td>\n    </tr>\n    <tr>\n      <th>3</th>\n      <td>1_11</td>\n      <td>2</td>\n      <td>[[1, 0, 0, 0, 0], [1, 0, 0, 0, 0], [1, 0, 0, 0...</td>\n      <td>[1, 2, 3, 4, 5, 6, 7, 8, 9, 10, 11, 12, 13, 14...</td>\n      <td>[[-0.0, 0.00408, 0.49999], [0.125, 0.25408, 0....</td>\n      <td>-5.4809</td>\n    </tr>\n    <tr>\n      <th>4</th>\n      <td>1_11</td>\n      <td>13</td>\n      <td>[[1, 0, 0, 0, 0], [1, 0, 0, 0, 0], [1, 0, 0, 0...</td>\n      <td>[1, 2, 3, 4, 5, 6, 7, 8, 9, 10, 11, 12, 13, 14...</td>\n      <td>[[-0.0, 0.00408, 0.49999], [0.125, 0.25408, 0....</td>\n      <td>-4.8951</td>\n    </tr>\n  </tbody>\n</table>\n</div>"
     },
     "execution_count": 7,
     "metadata": {},
     "output_type": "execute_result"
    }
   ],
   "source": [
    "#taking a look at the data\n",
    "final_data_df = pd.read_csv('final_data.csv')\n",
    "final_data_df.head()"
   ],
   "metadata": {
    "collapsed": false,
    "ExecuteTime": {
     "end_time": "2024-03-07T06:27:09.570962Z",
     "start_time": "2024-03-07T06:27:09.479216Z"
    }
   },
   "id": "98a0041201033d6f",
   "execution_count": 7
  },
  {
   "cell_type": "code",
   "outputs": [
    {
     "data": {
      "text/plain": "       Atom_Removed_Location  Energy_Value_Change\ncount            3726.000000          3726.000000\nmean               22.039721            -4.256561\nstd                14.238092             1.432308\nmin                 1.000000            -7.643400\n25%                10.000000            -5.540275\n50%                20.000000            -3.589850\n75%                34.000000            -3.281200\nmax                48.000000            -2.112200",
      "text/html": "<div>\n<style scoped>\n    .dataframe tbody tr th:only-of-type {\n        vertical-align: middle;\n    }\n\n    .dataframe tbody tr th {\n        vertical-align: top;\n    }\n\n    .dataframe thead th {\n        text-align: right;\n    }\n</style>\n<table border=\"1\" class=\"dataframe\">\n  <thead>\n    <tr style=\"text-align: right;\">\n      <th></th>\n      <th>Atom_Removed_Location</th>\n      <th>Energy_Value_Change</th>\n    </tr>\n  </thead>\n  <tbody>\n    <tr>\n      <th>count</th>\n      <td>3726.000000</td>\n      <td>3726.000000</td>\n    </tr>\n    <tr>\n      <th>mean</th>\n      <td>22.039721</td>\n      <td>-4.256561</td>\n    </tr>\n    <tr>\n      <th>std</th>\n      <td>14.238092</td>\n      <td>1.432308</td>\n    </tr>\n    <tr>\n      <th>min</th>\n      <td>1.000000</td>\n      <td>-7.643400</td>\n    </tr>\n    <tr>\n      <th>25%</th>\n      <td>10.000000</td>\n      <td>-5.540275</td>\n    </tr>\n    <tr>\n      <th>50%</th>\n      <td>20.000000</td>\n      <td>-3.589850</td>\n    </tr>\n    <tr>\n      <th>75%</th>\n      <td>34.000000</td>\n      <td>-3.281200</td>\n    </tr>\n    <tr>\n      <th>max</th>\n      <td>48.000000</td>\n      <td>-2.112200</td>\n    </tr>\n  </tbody>\n</table>\n</div>"
     },
     "execution_count": 8,
     "metadata": {},
     "output_type": "execute_result"
    }
   ],
   "source": [
    "final_data_df.describe()"
   ],
   "metadata": {
    "collapsed": false,
    "ExecuteTime": {
     "end_time": "2024-03-07T06:27:11.806564Z",
     "start_time": "2024-03-07T06:27:11.789171Z"
    }
   },
   "id": "22038c400cafb8c",
   "execution_count": 8
  },
  {
   "cell_type": "code",
   "outputs": [],
   "source": [
    "class DataPreparation:\n",
    "    def __init__(self, final_data_df):\n",
    "        # Initialize variables that will hold data from individual columns\n",
    "        self.struct_comb_col = final_data_df['Structure_Combination']\n",
    "        self.atom_removed_loc_col = final_data_df['Atom_Removed_Location']\n",
    "        self.atom_name_vector_list_col = final_data_df['Atom_Name_Vector_List']\n",
    "        self.atom_loc_vector_list_col = final_data_df['Atom_Location_Vector_List']\n",
    "        self.coordinate_vector_list_col = final_data_df['Coordinate_Vector_List']\n",
    "        self.energy_value_change_col = final_data_df['Energy_Value_Change']\n",
    "        \n",
    "    def fine_tune_data(self):\n",
    "        # Transform struct_comb_col\n",
    "        self.struct_comb_col = self.struct_comb_col.apply(lambda x: int(x.split('_')[0]) * 1000 + int(x.split('_')[1])).values.reshape(-1, 1)\n",
    "        \n",
    "        # Standardize atom_removed_loc_col and energy_value_change_col\n",
    "        scaler = StandardScaler()\n",
    "        self.atom_removed_loc_col = scaler.fit_transform(self.atom_removed_loc_col.values.reshape(-1, 1))\n",
    "        self.energy_value_change_col = scaler.fit_transform(self.energy_value_change_col.values.reshape(-1, 1))\n",
    "        \n",
    "        # Pad vector data\n",
    "        # Assuming atom_name_vector_list_col, atom_loc_vector_list_col, and coordinate_vector_list_col are lists of lists\n",
    "        # Convert them to a 3D numpy array first if not already in that form\n",
    "        self.atom_name_vector_list_col = pad_sequences(self.atom_name_vector_list_col, dtype='float32', padding='post')\n",
    "        self.atom_loc_vector_list_col = pad_sequences(self.atom_loc_vector_list_col, dtype='float32', padding='post')\n",
    "        self.coordinate_vector_list_col = pad_sequences(self.coordinate_vector_list_col, dtype='float32', padding='post')\n",
    "        \n",
    "    def split_data(self, test_size=0.2, random_state=42):\n",
    "        # Prepare a combined features array\n",
    "        # Note: This simplistic approach assumes all features are ready to be concatenated.\n",
    "        # In practice, you may need to adjust shapes or normalize certain features separately.\n",
    "        X = np.hstack([self.struct_comb_col, self.atom_removed_loc_col, \n",
    "                       self.atom_name_vector_list_col.reshape(len(self.atom_name_vector_list_col), -1), \n",
    "                       self.atom_loc_vector_list_col.reshape(len(self.atom_loc_vector_list_col), -1), \n",
    "                       self.coordinate_vector_list_col.reshape(len(self.coordinate_vector_list_col), -1)])\n",
    "        y = self.energy_value_change_col\n",
    "        \n",
    "        # Split data into train and test sets\n",
    "        X_train, X_test, y_train, y_test = train_test_split(X, y, test_size=test_size, random_state=random_state)\n",
    "        return X_train, X_test, y_train, y_test"
   ],
   "metadata": {
    "collapsed": false
   },
   "id": "1be4e5df519805e4"
  },
  {
   "cell_type": "code",
   "outputs": [],
   "source": [
    "class EnergyPredictionModel(HyperModel):\n",
    "    def __init__(self, X_train, y_train):\n",
    "        # Determine input shapes based on X_train\n",
    "        if isinstance(X_train, list):\n",
    "            # Multiple inputs\n",
    "            self.input_shapes = [x.shape[1:] for x in X_train]\n",
    "        else:\n",
    "            # Single input\n",
    "            self.input_shapes = [X_train.shape[1:]]\n",
    "\n",
    "        # Use y_train if needed for model architecture decisions (rarely needed)\n",
    "        self.output_shape = y_train.shape[1:]\n",
    "\n",
    "    def build(self, hp):\n",
    "        inputs = []\n",
    "        processed_inputs = []\n",
    "\n",
    "        for shape in self.input_shapes:\n",
    "            input_layer = Input(shape=shape)\n",
    "            inputs.append(input_layer)\n",
    "\n",
    "            # Process each input; for now, simply use a dense layer\n",
    "            processed = Dense(hp.Int('units_input', min_value=16, max_value=64, step=16), activation='relu')(input_layer)\n",
    "            processed_inputs.append(processed)\n",
    "\n",
    "        # Combine all processed inputs\n",
    "        if len(processed_inputs) > 1:\n",
    "            combined = Concatenate()(processed_inputs)\n",
    "        else:\n",
    "            combined = processed_inputs[0]\n",
    "\n",
    "        # Additional layers\n",
    "        x = Dense(hp.Int('units_dense1', min_value=32, max_value=128, step=32), activation='relu')(combined)\n",
    "        x = Dense(hp.Int('units_dense2', min_value=16, max_value=64, step=16), activation='relu')(x)\n",
    "\n",
    "        # Output layer\n",
    "        output = Dense(self.output_shape[0], activation='linear')(x)\n",
    "\n",
    "        model = Model(inputs=inputs, outputs=output)\n",
    "        model.compile(optimizer=Adam(hp.Choice('learning_rate', values=[1e-2, 1e-3, 1e-4])), loss='mean_squared_error', metrics=['mae'])\n",
    "\n",
    "        return model"
   ],
   "metadata": {
    "collapsed": false
   },
   "id": "1305e9a7a9cb56dd"
  },
  {
   "cell_type": "code",
   "outputs": [],
   "source": [
    "class HyperParameterTuning\n",
    "    def __init__(self, feature_list):\n",
    "        \n",
    "    \n",
    "    #Hyperparameter tuning\n",
    "    input_shapes = {\n",
    "        'structured': X_structured.shape[1:],\n",
    "        'atom_name': atom_name_vector_list_padded.shape[1:],\n",
    "        'atom_location': atom_location_vector_list_padded.shape[1:],\n",
    "        'coordinate': coordinate_vector_list_padded.shape[1:],\n",
    "    }\n",
    "\n",
    "    hypermodel = EnergyPredictionModel(input_shapes)\n",
    "\n",
    "    tuner = BayesianOptimization(\n",
    "        hypermodel,\n",
    "        objective='val_mae',\n",
    "        max_trials=10,\n",
    "        executions_per_trial=2,\n",
    "        directory='hyperparam_tuning',\n",
    "        project_name='energy_prediction'\n",
    "    )\n",
    "\n",
    "    # Split data\n",
    "    # Assuming you have a split_data function ready\n",
    "    X_train, X_test, y_train, y_test = split_data(atom_name_vector_list_padded, atom_location_vector_list_padded, coordinate_vector_list_padded, X_structured, energy_value_change)\n",
    "\n",
    "    # Prepare the data in a format that the model expects\n",
    "    # Assuming X_train_structured, X_train_atom_name, etc., are prepared\n",
    "\n",
    "    # Start the hyperparameter search\n",
    "    tuner.search([X_train_structured, X_train_atom_name, X_train_atom_location, X_train_coordinate], y_train, \n",
    "             epochs=10, validation_split=0.2, callbacks=[earlystop_callback])\n",
    "\n",
    "    # Get the best hyperparameters\n",
    "    best_hps = tuner.get_best_hyperparameters(num_trials=1)[0]"
   ],
   "metadata": {
    "collapsed": false
   },
   "id": "a714c83026c29180"
  },
  {
   "cell_type": "code",
   "outputs": [],
   "source": [
    "    #Rebuild and retrain model using the best hyperparameters and then evaluate it on the test-test (possibly use cross-validation)\n",
    "    class TestBestModel(model, X_train, X_test, y_train, y_test):\n",
    "        "
   ],
   "metadata": {
    "collapsed": false
   },
   "id": "9634a72ab4a3b75c"
  },
  {
   "cell_type": "code",
   "outputs": [],
   "source": [
    "def main():\n",
    "    \n",
    "    "
   ],
   "metadata": {
    "collapsed": false
   },
   "id": "c073332f9ab58e97"
  },
  {
   "cell_type": "code",
   "outputs": [],
   "source": [
    "if __name__ == '__main__':\n",
    "    main()"
   ],
   "metadata": {
    "collapsed": false
   },
   "id": "4e16f575517bb2b0"
  }
 ],
 "metadata": {
  "kernelspec": {
   "display_name": "Python 3",
   "language": "python",
   "name": "python3"
  },
  "language_info": {
   "codemirror_mode": {
    "name": "ipython",
    "version": 2
   },
   "file_extension": ".py",
   "mimetype": "text/x-python",
   "name": "python",
   "nbconvert_exporter": "python",
   "pygments_lexer": "ipython2",
   "version": "2.7.6"
  }
 },
 "nbformat": 4,
 "nbformat_minor": 5
}
